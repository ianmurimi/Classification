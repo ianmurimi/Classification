{
 "cells": [
  {
   "cell_type": "markdown",
   "metadata": {
    "id": "angxYI4fgGW1"
   },
   "source": [
    "StudentID: 202314466"
   ]
  },
  {
   "cell_type": "code",
   "execution_count": 1,
   "metadata": {
    "id": "fXrIt7hDgKko"
   },
   "outputs": [],
   "source": [
    "# import all the libraries that we need\n",
    "import pandas as pd\n",
    "import numpy as np\n",
    "from sklearn.model_selection import train_test_split\n",
    "from sklearn.ensemble import RandomForestClassifier\n",
    "from sklearn.ensemble import RandomForestRegressor\n",
    "from sklearn.metrics import confusion_matrix\n",
    "from sklearn.model_selection import cross_val_score\n",
    "import matplotlib.pyplot as plt\n",
    "from sklearn.metrics import roc_curve, accuracy_score, precision_score, recall_score\n",
    "from numpy import argmax\n",
    "from sklearn.preprocessing import PolynomialFeatures\n",
    "from sklearn.preprocessing import MinMaxScaler\n",
    "from sklearn.preprocessing import OneHotEncoder\n",
    "from sklearn.model_selection import cross_val_score\n",
    "from sklearn.model_selection import KFold\n",
    "from sklearn.metrics import mean_squared_error, r2_score, mean_absolute_error, mean_squared_error"
   ]
  },
  {
   "cell_type": "markdown",
   "metadata": {},
   "source": [
    "We start by exploring the dataset ('dataset1.xlsx') by reading the excel file."
   ]
  },
  {
   "cell_type": "code",
   "execution_count": 2,
   "metadata": {
    "colab": {
     "base_uri": "https://localhost:8080/",
     "height": 423
    },
    "id": "JMDfFF_FfxDU",
    "outputId": "c18784a3-f6a6-4877-a3dc-964c73132518"
   },
   "outputs": [
    {
     "data": {
      "text/html": [
       "<div>\n",
       "<style scoped>\n",
       "    .dataframe tbody tr th:only-of-type {\n",
       "        vertical-align: middle;\n",
       "    }\n",
       "\n",
       "    .dataframe tbody tr th {\n",
       "        vertical-align: top;\n",
       "    }\n",
       "\n",
       "    .dataframe thead th {\n",
       "        text-align: right;\n",
       "    }\n",
       "</style>\n",
       "<table border=\"1\" class=\"dataframe\">\n",
       "  <thead>\n",
       "    <tr style=\"text-align: right;\">\n",
       "      <th></th>\n",
       "      <th>target</th>\n",
       "      <th>var1</th>\n",
       "      <th>var2</th>\n",
       "      <th>var3</th>\n",
       "      <th>var4</th>\n",
       "      <th>var5</th>\n",
       "      <th>var6</th>\n",
       "      <th>var7</th>\n",
       "    </tr>\n",
       "  </thead>\n",
       "  <tbody>\n",
       "    <tr>\n",
       "      <th>0</th>\n",
       "      <td>0</td>\n",
       "      <td>509.18</td>\n",
       "      <td>417.681</td>\n",
       "      <td>Micronesia</td>\n",
       "      <td>138.0</td>\n",
       "      <td>393.00</td>\n",
       "      <td>no</td>\n",
       "      <td>2019-07-20 13:21:37</td>\n",
       "    </tr>\n",
       "    <tr>\n",
       "      <th>1</th>\n",
       "      <td>0</td>\n",
       "      <td>446.06</td>\n",
       "      <td>666.182</td>\n",
       "      <td>Dominica</td>\n",
       "      <td>81.0</td>\n",
       "      <td>352.05</td>\n",
       "      <td>yes</td>\n",
       "      <td>2019-04-04 21:30:46</td>\n",
       "    </tr>\n",
       "    <tr>\n",
       "      <th>2</th>\n",
       "      <td>1</td>\n",
       "      <td>235.50</td>\n",
       "      <td>398.097</td>\n",
       "      <td>Isle of Man</td>\n",
       "      <td>90.0</td>\n",
       "      <td>339.00</td>\n",
       "      <td>no</td>\n",
       "      <td>2019-03-03 02:59:37</td>\n",
       "    </tr>\n",
       "    <tr>\n",
       "      <th>3</th>\n",
       "      <td>0</td>\n",
       "      <td>306.02</td>\n",
       "      <td>518.163</td>\n",
       "      <td>Turkmenistan</td>\n",
       "      <td>102.0</td>\n",
       "      <td>439.25</td>\n",
       "      <td>yes</td>\n",
       "      <td>2019-03-19 08:00:58</td>\n",
       "    </tr>\n",
       "    <tr>\n",
       "      <th>4</th>\n",
       "      <td>0</td>\n",
       "      <td>453.08</td>\n",
       "      <td>600.156</td>\n",
       "      <td>Cameroon</td>\n",
       "      <td>105.0</td>\n",
       "      <td>422.95</td>\n",
       "      <td>no</td>\n",
       "      <td>2019-03-18 13:22:35</td>\n",
       "    </tr>\n",
       "    <tr>\n",
       "      <th>...</th>\n",
       "      <td>...</td>\n",
       "      <td>...</td>\n",
       "      <td>...</td>\n",
       "      <td>...</td>\n",
       "      <td>...</td>\n",
       "      <td>...</td>\n",
       "      <td>...</td>\n",
       "      <td>...</td>\n",
       "    </tr>\n",
       "    <tr>\n",
       "      <th>920</th>\n",
       "      <td>0</td>\n",
       "      <td>422.34</td>\n",
       "      <td>547.259</td>\n",
       "      <td>Belarus</td>\n",
       "      <td>NaN</td>\n",
       "      <td>350.45</td>\n",
       "      <td>yes</td>\n",
       "      <td>2019-01-22 12:58:14</td>\n",
       "    </tr>\n",
       "    <tr>\n",
       "      <th>921</th>\n",
       "      <td>1</td>\n",
       "      <td>342.62</td>\n",
       "      <td>473.919</td>\n",
       "      <td>Japan</td>\n",
       "      <td>NaN</td>\n",
       "      <td>200.85</td>\n",
       "      <td>no</td>\n",
       "      <td>2019-02-01 14:37:34</td>\n",
       "    </tr>\n",
       "    <tr>\n",
       "      <th>922</th>\n",
       "      <td>1</td>\n",
       "      <td>265.10</td>\n",
       "      <td>538.170</td>\n",
       "      <td>Saint Martin</td>\n",
       "      <td>NaN</td>\n",
       "      <td>208.35</td>\n",
       "      <td>yes</td>\n",
       "      <td>2019-06-13 18:50:00</td>\n",
       "    </tr>\n",
       "    <tr>\n",
       "      <th>923</th>\n",
       "      <td>0</td>\n",
       "      <td>397.12</td>\n",
       "      <td>622.386</td>\n",
       "      <td>Chad</td>\n",
       "      <td>NaN</td>\n",
       "      <td>433.45</td>\n",
       "      <td>yes</td>\n",
       "      <td>2019-05-27 06:19:27</td>\n",
       "    </tr>\n",
       "    <tr>\n",
       "      <th>924</th>\n",
       "      <td>1</td>\n",
       "      <td>242.10</td>\n",
       "      <td>420.429</td>\n",
       "      <td>Albania</td>\n",
       "      <td>NaN</td>\n",
       "      <td>369.20</td>\n",
       "      <td>yes</td>\n",
       "      <td>2019-06-18 17:23:26</td>\n",
       "    </tr>\n",
       "  </tbody>\n",
       "</table>\n",
       "<p>925 rows × 8 columns</p>\n",
       "</div>"
      ],
      "text/plain": [
       "     target    var1     var2          var3   var4    var5 var6  \\\n",
       "0         0  509.18  417.681    Micronesia  138.0  393.00   no   \n",
       "1         0  446.06  666.182      Dominica   81.0  352.05  yes   \n",
       "2         1  235.50  398.097   Isle of Man   90.0  339.00   no   \n",
       "3         0  306.02  518.163  Turkmenistan  102.0  439.25  yes   \n",
       "4         0  453.08  600.156      Cameroon  105.0  422.95   no   \n",
       "..      ...     ...      ...           ...    ...     ...  ...   \n",
       "920       0  422.34  547.259       Belarus    NaN  350.45  yes   \n",
       "921       1  342.62  473.919         Japan    NaN  200.85   no   \n",
       "922       1  265.10  538.170  Saint Martin    NaN  208.35  yes   \n",
       "923       0  397.12  622.386          Chad    NaN  433.45  yes   \n",
       "924       1  242.10  420.429       Albania    NaN  369.20  yes   \n",
       "\n",
       "                    var7  \n",
       "0    2019-07-20 13:21:37  \n",
       "1    2019-04-04 21:30:46  \n",
       "2    2019-03-03 02:59:37  \n",
       "3    2019-03-19 08:00:58  \n",
       "4    2019-03-18 13:22:35  \n",
       "..                   ...  \n",
       "920  2019-01-22 12:58:14  \n",
       "921  2019-02-01 14:37:34  \n",
       "922  2019-06-13 18:50:00  \n",
       "923  2019-05-27 06:19:27  \n",
       "924  2019-06-18 17:23:26  \n",
       "\n",
       "[925 rows x 8 columns]"
      ]
     },
     "execution_count": 2,
     "metadata": {},
     "output_type": "execute_result"
    }
   ],
   "source": [
    "dataset_pd = pd.read_excel('dataset1.xlsx')\n",
    "dataset_pd"
   ]
  },
  {
   "cell_type": "markdown",
   "metadata": {
    "id": "HFn488MTjekM"
   },
   "source": [
    "After successful reading 'dataset1.xlsx', we check the dataset for missing values, the summary statistics of the dataset and the dataset frame data types.Knowing the data types of the various columns will help in knowing how to work on the missing values."
   ]
  },
  {
   "cell_type": "code",
   "execution_count": 3,
   "metadata": {
    "colab": {
     "base_uri": "https://localhost:8080/"
    },
    "id": "yYIAg-Gljkno",
    "outputId": "b2e0c5c0-68ad-497d-f81d-b703e838d573"
   },
   "outputs": [
    {
     "data": {
      "text/plain": [
       "target      0\n",
       "var1        0\n",
       "var2        0\n",
       "var3        0\n",
       "var4      600\n",
       "var5        0\n",
       "var6        0\n",
       "var7        0\n",
       "dtype: int64"
      ]
     },
     "execution_count": 3,
     "metadata": {},
     "output_type": "execute_result"
    }
   ],
   "source": [
    "dataset_pd.isna().sum() # checking for missing values per column"
   ]
  },
  {
   "cell_type": "code",
   "execution_count": 4,
   "metadata": {},
   "outputs": [
    {
     "data": {
      "text/plain": [
       "target      int64\n",
       "var1      float64\n",
       "var2      float64\n",
       "var3       object\n",
       "var4      float64\n",
       "var5      float64\n",
       "var6       object\n",
       "var7       object\n",
       "dtype: object"
      ]
     },
     "execution_count": 4,
     "metadata": {},
     "output_type": "execute_result"
    }
   ],
   "source": [
    "dataset_pd.dtypes # data types of the various columns"
   ]
  },
  {
   "cell_type": "code",
   "execution_count": 5,
   "metadata": {
    "colab": {
     "base_uri": "https://localhost:8080/",
     "height": 300
    },
    "id": "KXjQ-pUJAfVc",
    "outputId": "337da641-8197-4011-aa2d-f14a289c4ab0"
   },
   "outputs": [
    {
     "data": {
      "text/html": [
       "<div>\n",
       "<style scoped>\n",
       "    .dataframe tbody tr th:only-of-type {\n",
       "        vertical-align: middle;\n",
       "    }\n",
       "\n",
       "    .dataframe tbody tr th {\n",
       "        vertical-align: top;\n",
       "    }\n",
       "\n",
       "    .dataframe thead th {\n",
       "        text-align: right;\n",
       "    }\n",
       "</style>\n",
       "<table border=\"1\" class=\"dataframe\">\n",
       "  <thead>\n",
       "    <tr style=\"text-align: right;\">\n",
       "      <th></th>\n",
       "      <th>target</th>\n",
       "      <th>var1</th>\n",
       "      <th>var2</th>\n",
       "      <th>var4</th>\n",
       "      <th>var5</th>\n",
       "    </tr>\n",
       "  </thead>\n",
       "  <tbody>\n",
       "    <tr>\n",
       "      <th>count</th>\n",
       "      <td>925.000000</td>\n",
       "      <td>925.000000</td>\n",
       "      <td>925.000000</td>\n",
       "      <td>325.000000</td>\n",
       "      <td>925.000000</td>\n",
       "    </tr>\n",
       "    <tr>\n",
       "      <th>mean</th>\n",
       "      <td>0.496216</td>\n",
       "      <td>360.116562</td>\n",
       "      <td>548.390134</td>\n",
       "      <td>108.452308</td>\n",
       "      <td>325.393946</td>\n",
       "    </tr>\n",
       "    <tr>\n",
       "      <th>std</th>\n",
       "      <td>0.500256</td>\n",
       "      <td>87.866662</td>\n",
       "      <td>135.221460</td>\n",
       "      <td>26.325744</td>\n",
       "      <td>78.862779</td>\n",
       "    </tr>\n",
       "    <tr>\n",
       "      <th>min</th>\n",
       "      <td>0.000000</td>\n",
       "      <td>209.560000</td>\n",
       "      <td>139.965000</td>\n",
       "      <td>57.000000</td>\n",
       "      <td>163.000000</td>\n",
       "    </tr>\n",
       "    <tr>\n",
       "      <th>25%</th>\n",
       "      <td>0.000000</td>\n",
       "      <td>278.640000</td>\n",
       "      <td>467.373000</td>\n",
       "      <td>87.000000</td>\n",
       "      <td>257.900000</td>\n",
       "    </tr>\n",
       "    <tr>\n",
       "      <th>50%</th>\n",
       "      <td>0.000000</td>\n",
       "      <td>367.640000</td>\n",
       "      <td>569.841000</td>\n",
       "      <td>105.000000</td>\n",
       "      <td>342.350000</td>\n",
       "    </tr>\n",
       "    <tr>\n",
       "      <th>75%</th>\n",
       "      <td>1.000000</td>\n",
       "      <td>437.600000</td>\n",
       "      <td>652.278000</td>\n",
       "      <td>126.000000</td>\n",
       "      <td>393.000000</td>\n",
       "    </tr>\n",
       "    <tr>\n",
       "      <th>max</th>\n",
       "      <td>1.000000</td>\n",
       "      <td>539.920000</td>\n",
       "      <td>794.848000</td>\n",
       "      <td>180.000000</td>\n",
       "      <td>457.150000</td>\n",
       "    </tr>\n",
       "  </tbody>\n",
       "</table>\n",
       "</div>"
      ],
      "text/plain": [
       "           target        var1        var2        var4        var5\n",
       "count  925.000000  925.000000  925.000000  325.000000  925.000000\n",
       "mean     0.496216  360.116562  548.390134  108.452308  325.393946\n",
       "std      0.500256   87.866662  135.221460   26.325744   78.862779\n",
       "min      0.000000  209.560000  139.965000   57.000000  163.000000\n",
       "25%      0.000000  278.640000  467.373000   87.000000  257.900000\n",
       "50%      0.000000  367.640000  569.841000  105.000000  342.350000\n",
       "75%      1.000000  437.600000  652.278000  126.000000  393.000000\n",
       "max      1.000000  539.920000  794.848000  180.000000  457.150000"
      ]
     },
     "execution_count": 5,
     "metadata": {},
     "output_type": "execute_result"
    }
   ],
   "source": [
    "dataset_pd.describe() #  display the summary statistics of the dataset "
   ]
  },
  {
   "cell_type": "markdown",
   "metadata": {},
   "source": [
    "From the dataset, we can see we have missing values only in var4. The total sum of missing values in var4 is 600. This is quite huge for a dataset with 925 records. So, we can't drop them. Therefore, we shall try predict the missing values based on the data that we have. We shall start by analyzing the columns one by one as we prepare the data to predict the missing values."
   ]
  },
  {
   "cell_type": "code",
   "execution_count": 6,
   "metadata": {},
   "outputs": [
    {
     "data": {
      "text/html": [
       "<div>\n",
       "<style scoped>\n",
       "    .dataframe tbody tr th:only-of-type {\n",
       "        vertical-align: middle;\n",
       "    }\n",
       "\n",
       "    .dataframe tbody tr th {\n",
       "        vertical-align: top;\n",
       "    }\n",
       "\n",
       "    .dataframe thead th {\n",
       "        text-align: right;\n",
       "    }\n",
       "</style>\n",
       "<table border=\"1\" class=\"dataframe\">\n",
       "  <thead>\n",
       "    <tr style=\"text-align: right;\">\n",
       "      <th></th>\n",
       "      <th>target</th>\n",
       "      <th>var1</th>\n",
       "      <th>var2</th>\n",
       "      <th>var3</th>\n",
       "      <th>var4</th>\n",
       "      <th>var5</th>\n",
       "      <th>var6</th>\n",
       "      <th>var7</th>\n",
       "    </tr>\n",
       "  </thead>\n",
       "  <tbody>\n",
       "    <tr>\n",
       "      <th>0</th>\n",
       "      <td>0</td>\n",
       "      <td>509.18</td>\n",
       "      <td>417.681</td>\n",
       "      <td>Micronesia</td>\n",
       "      <td>138.0</td>\n",
       "      <td>393.00</td>\n",
       "      <td>no</td>\n",
       "      <td>2019-07-20 13:21:37</td>\n",
       "    </tr>\n",
       "    <tr>\n",
       "      <th>1</th>\n",
       "      <td>0</td>\n",
       "      <td>446.06</td>\n",
       "      <td>666.182</td>\n",
       "      <td>Dominica</td>\n",
       "      <td>81.0</td>\n",
       "      <td>352.05</td>\n",
       "      <td>yes</td>\n",
       "      <td>2019-04-04 21:30:46</td>\n",
       "    </tr>\n",
       "    <tr>\n",
       "      <th>2</th>\n",
       "      <td>1</td>\n",
       "      <td>235.50</td>\n",
       "      <td>398.097</td>\n",
       "      <td>Isle of Man</td>\n",
       "      <td>90.0</td>\n",
       "      <td>339.00</td>\n",
       "      <td>no</td>\n",
       "      <td>2019-03-03 02:59:37</td>\n",
       "    </tr>\n",
       "    <tr>\n",
       "      <th>3</th>\n",
       "      <td>0</td>\n",
       "      <td>306.02</td>\n",
       "      <td>518.163</td>\n",
       "      <td>Turkmenistan</td>\n",
       "      <td>102.0</td>\n",
       "      <td>439.25</td>\n",
       "      <td>yes</td>\n",
       "      <td>2019-03-19 08:00:58</td>\n",
       "    </tr>\n",
       "    <tr>\n",
       "      <th>4</th>\n",
       "      <td>0</td>\n",
       "      <td>453.08</td>\n",
       "      <td>600.156</td>\n",
       "      <td>Cameroon</td>\n",
       "      <td>105.0</td>\n",
       "      <td>422.95</td>\n",
       "      <td>no</td>\n",
       "      <td>2019-03-18 13:22:35</td>\n",
       "    </tr>\n",
       "  </tbody>\n",
       "</table>\n",
       "</div>"
      ],
      "text/plain": [
       "   target    var1     var2          var3   var4    var5 var6  \\\n",
       "0       0  509.18  417.681    Micronesia  138.0  393.00   no   \n",
       "1       0  446.06  666.182      Dominica   81.0  352.05  yes   \n",
       "2       1  235.50  398.097   Isle of Man   90.0  339.00   no   \n",
       "3       0  306.02  518.163  Turkmenistan  102.0  439.25  yes   \n",
       "4       0  453.08  600.156      Cameroon  105.0  422.95   no   \n",
       "\n",
       "                  var7  \n",
       "0  2019-07-20 13:21:37  \n",
       "1  2019-04-04 21:30:46  \n",
       "2  2019-03-03 02:59:37  \n",
       "3  2019-03-19 08:00:58  \n",
       "4  2019-03-18 13:22:35  "
      ]
     },
     "execution_count": 6,
     "metadata": {},
     "output_type": "execute_result"
    }
   ],
   "source": [
    "dataset_pd.head() # lets us display a sample of 5 records in the dataset for analysis"
   ]
  },
  {
   "cell_type": "markdown",
   "metadata": {
    "id": "FATBnKoaP0_f"
   },
   "source": [
    "From the dataset we can see, 'var3' and 'var6' are categorical features. Let us use the One-Hot encoder for 'var6' first to convert 'yes' values to 1 and 'no' values to 0"
   ]
  },
  {
   "cell_type": "code",
   "execution_count": 7,
   "metadata": {
    "colab": {
     "base_uri": "https://localhost:8080/",
     "height": 423
    },
    "id": "KwuIJDUjXjYY",
    "outputId": "4d3d6eb5-e3ab-4e2f-8929-edf84850ebcd"
   },
   "outputs": [
    {
     "data": {
      "text/html": [
       "<div>\n",
       "<style scoped>\n",
       "    .dataframe tbody tr th:only-of-type {\n",
       "        vertical-align: middle;\n",
       "    }\n",
       "\n",
       "    .dataframe tbody tr th {\n",
       "        vertical-align: top;\n",
       "    }\n",
       "\n",
       "    .dataframe thead th {\n",
       "        text-align: right;\n",
       "    }\n",
       "</style>\n",
       "<table border=\"1\" class=\"dataframe\">\n",
       "  <thead>\n",
       "    <tr style=\"text-align: right;\">\n",
       "      <th></th>\n",
       "      <th>target</th>\n",
       "      <th>var1</th>\n",
       "      <th>var2</th>\n",
       "      <th>var3</th>\n",
       "      <th>var4</th>\n",
       "      <th>var5</th>\n",
       "      <th>var6</th>\n",
       "      <th>var7</th>\n",
       "    </tr>\n",
       "  </thead>\n",
       "  <tbody>\n",
       "    <tr>\n",
       "      <th>0</th>\n",
       "      <td>0</td>\n",
       "      <td>509.18</td>\n",
       "      <td>417.681</td>\n",
       "      <td>Micronesia</td>\n",
       "      <td>138.0</td>\n",
       "      <td>393.00</td>\n",
       "      <td>0</td>\n",
       "      <td>2019-07-20 13:21:37</td>\n",
       "    </tr>\n",
       "    <tr>\n",
       "      <th>1</th>\n",
       "      <td>0</td>\n",
       "      <td>446.06</td>\n",
       "      <td>666.182</td>\n",
       "      <td>Dominica</td>\n",
       "      <td>81.0</td>\n",
       "      <td>352.05</td>\n",
       "      <td>1</td>\n",
       "      <td>2019-04-04 21:30:46</td>\n",
       "    </tr>\n",
       "    <tr>\n",
       "      <th>2</th>\n",
       "      <td>1</td>\n",
       "      <td>235.50</td>\n",
       "      <td>398.097</td>\n",
       "      <td>Isle of Man</td>\n",
       "      <td>90.0</td>\n",
       "      <td>339.00</td>\n",
       "      <td>0</td>\n",
       "      <td>2019-03-03 02:59:37</td>\n",
       "    </tr>\n",
       "    <tr>\n",
       "      <th>3</th>\n",
       "      <td>0</td>\n",
       "      <td>306.02</td>\n",
       "      <td>518.163</td>\n",
       "      <td>Turkmenistan</td>\n",
       "      <td>102.0</td>\n",
       "      <td>439.25</td>\n",
       "      <td>1</td>\n",
       "      <td>2019-03-19 08:00:58</td>\n",
       "    </tr>\n",
       "    <tr>\n",
       "      <th>4</th>\n",
       "      <td>0</td>\n",
       "      <td>453.08</td>\n",
       "      <td>600.156</td>\n",
       "      <td>Cameroon</td>\n",
       "      <td>105.0</td>\n",
       "      <td>422.95</td>\n",
       "      <td>0</td>\n",
       "      <td>2019-03-18 13:22:35</td>\n",
       "    </tr>\n",
       "  </tbody>\n",
       "</table>\n",
       "</div>"
      ],
      "text/plain": [
       "   target    var1     var2          var3   var4    var5  var6  \\\n",
       "0       0  509.18  417.681    Micronesia  138.0  393.00     0   \n",
       "1       0  446.06  666.182      Dominica   81.0  352.05     1   \n",
       "2       1  235.50  398.097   Isle of Man   90.0  339.00     0   \n",
       "3       0  306.02  518.163  Turkmenistan  102.0  439.25     1   \n",
       "4       0  453.08  600.156      Cameroon  105.0  422.95     0   \n",
       "\n",
       "                  var7  \n",
       "0  2019-07-20 13:21:37  \n",
       "1  2019-04-04 21:30:46  \n",
       "2  2019-03-03 02:59:37  \n",
       "3  2019-03-19 08:00:58  \n",
       "4  2019-03-18 13:22:35  "
      ]
     },
     "execution_count": 7,
     "metadata": {},
     "output_type": "execute_result"
    }
   ],
   "source": [
    "# define one hot encoding\n",
    "encoder = OneHotEncoder(sparse_output=False, dtype=int)\n",
    "\n",
    "# transform categorical data into numerical using one-hot encoding\n",
    "onehot = encoder.fit_transform(dataset_pd[['var6']])\n",
    "\n",
    "# assign the encoded values back to 'var6' column\n",
    "dataset_pd['var6'] = onehot.take(1, axis=1)\n",
    "\n",
    "# show the dataframe\n",
    "dataset_pd.head()"
   ]
  },
  {
   "cell_type": "markdown",
   "metadata": {
    "id": "5E-9zWRfl-cj"
   },
   "source": [
    "'var3' column contains country names, so we can neither use OneHotEncoder as we need multiple values nor OrdinalEncoder as countries are not ordered naturally.\n",
    "\n",
    "We can try use TargetEncoder for encoding as it is best suited for high cardinality categories such as location based zip code or region (https://scikit-learn.org/stable/modules/preprocessing.html#encoding-categorical-features)\n",
    "\n",
    "Since TargetEncoder appears in scikit-learn starting from version 1.3, we will use the implementation from here: https://contrib.scikit-learn.org/category_encoders/targetencoder.html\n",
    "\n",
    "Let us observe what target values correspond to some values of the 'var3' column"
   ]
  },
  {
   "cell_type": "code",
   "execution_count": 8,
   "metadata": {
    "colab": {
     "base_uri": "https://localhost:8080/",
     "height": 174
    },
    "id": "w4EAdOYYUJFk",
    "outputId": "49690800-3553-48d6-bb9e-d842f3a88c8e"
   },
   "outputs": [
    {
     "data": {
      "text/html": [
       "<div>\n",
       "<style scoped>\n",
       "    .dataframe tbody tr th:only-of-type {\n",
       "        vertical-align: middle;\n",
       "    }\n",
       "\n",
       "    .dataframe tbody tr th {\n",
       "        vertical-align: top;\n",
       "    }\n",
       "\n",
       "    .dataframe thead th {\n",
       "        text-align: right;\n",
       "    }\n",
       "</style>\n",
       "<table border=\"1\" class=\"dataframe\">\n",
       "  <thead>\n",
       "    <tr style=\"text-align: right;\">\n",
       "      <th></th>\n",
       "      <th>target</th>\n",
       "      <th>var1</th>\n",
       "      <th>var2</th>\n",
       "      <th>var3</th>\n",
       "      <th>var4</th>\n",
       "      <th>var5</th>\n",
       "      <th>var6</th>\n",
       "      <th>var7</th>\n",
       "    </tr>\n",
       "  </thead>\n",
       "  <tbody>\n",
       "    <tr>\n",
       "      <th>343</th>\n",
       "      <td>0</td>\n",
       "      <td>457.62</td>\n",
       "      <td>472.586</td>\n",
       "      <td>Japan</td>\n",
       "      <td>NaN</td>\n",
       "      <td>381.00</td>\n",
       "      <td>0</td>\n",
       "      <td>2019-03-02 06:35:08</td>\n",
       "    </tr>\n",
       "    <tr>\n",
       "      <th>460</th>\n",
       "      <td>1</td>\n",
       "      <td>338.80</td>\n",
       "      <td>310.724</td>\n",
       "      <td>Japan</td>\n",
       "      <td>NaN</td>\n",
       "      <td>356.65</td>\n",
       "      <td>1</td>\n",
       "      <td>2019-03-15 06:54:21</td>\n",
       "    </tr>\n",
       "    <tr>\n",
       "      <th>714</th>\n",
       "      <td>0</td>\n",
       "      <td>332.62</td>\n",
       "      <td>721.889</td>\n",
       "      <td>Japan</td>\n",
       "      <td>NaN</td>\n",
       "      <td>357.00</td>\n",
       "      <td>1</td>\n",
       "      <td>2019-05-24 17:07:08</td>\n",
       "    </tr>\n",
       "    <tr>\n",
       "      <th>921</th>\n",
       "      <td>1</td>\n",
       "      <td>342.62</td>\n",
       "      <td>473.919</td>\n",
       "      <td>Japan</td>\n",
       "      <td>NaN</td>\n",
       "      <td>200.85</td>\n",
       "      <td>0</td>\n",
       "      <td>2019-02-01 14:37:34</td>\n",
       "    </tr>\n",
       "  </tbody>\n",
       "</table>\n",
       "</div>"
      ],
      "text/plain": [
       "     target    var1     var2   var3  var4    var5  var6                 var7\n",
       "343       0  457.62  472.586  Japan   NaN  381.00     0  2019-03-02 06:35:08\n",
       "460       1  338.80  310.724  Japan   NaN  356.65     1  2019-03-15 06:54:21\n",
       "714       0  332.62  721.889  Japan   NaN  357.00     1  2019-05-24 17:07:08\n",
       "921       1  342.62  473.919  Japan   NaN  200.85     0  2019-02-01 14:37:34"
      ]
     },
     "execution_count": 8,
     "metadata": {},
     "output_type": "execute_result"
    }
   ],
   "source": [
    "dataset_pd[dataset_pd['var3']=='Japan']"
   ]
  },
  {
   "cell_type": "code",
   "execution_count": 9,
   "metadata": {
    "colab": {
     "base_uri": "https://localhost:8080/",
     "height": 174
    },
    "id": "v3cKlsagUUvb",
    "outputId": "6fc15348-dbf9-4c0f-b6bf-6ec38889f34d"
   },
   "outputs": [
    {
     "data": {
      "text/html": [
       "<div>\n",
       "<style scoped>\n",
       "    .dataframe tbody tr th:only-of-type {\n",
       "        vertical-align: middle;\n",
       "    }\n",
       "\n",
       "    .dataframe tbody tr th {\n",
       "        vertical-align: top;\n",
       "    }\n",
       "\n",
       "    .dataframe thead th {\n",
       "        text-align: right;\n",
       "    }\n",
       "</style>\n",
       "<table border=\"1\" class=\"dataframe\">\n",
       "  <thead>\n",
       "    <tr style=\"text-align: right;\">\n",
       "      <th></th>\n",
       "      <th>target</th>\n",
       "      <th>var1</th>\n",
       "      <th>var2</th>\n",
       "      <th>var3</th>\n",
       "      <th>var4</th>\n",
       "      <th>var5</th>\n",
       "      <th>var6</th>\n",
       "      <th>var7</th>\n",
       "    </tr>\n",
       "  </thead>\n",
       "  <tbody>\n",
       "    <tr>\n",
       "      <th>9</th>\n",
       "      <td>1</td>\n",
       "      <td>283.04</td>\n",
       "      <td>467.801</td>\n",
       "      <td>Chad</td>\n",
       "      <td>69.0</td>\n",
       "      <td>272.35</td>\n",
       "      <td>1</td>\n",
       "      <td>2019-03-26 19:37:46</td>\n",
       "    </tr>\n",
       "    <tr>\n",
       "      <th>60</th>\n",
       "      <td>1</td>\n",
       "      <td>398.50</td>\n",
       "      <td>567.351</td>\n",
       "      <td>Chad</td>\n",
       "      <td>150.0</td>\n",
       "      <td>186.60</td>\n",
       "      <td>0</td>\n",
       "      <td>2019-03-30 23:40:52</td>\n",
       "    </tr>\n",
       "    <tr>\n",
       "      <th>76</th>\n",
       "      <td>0</td>\n",
       "      <td>496.38</td>\n",
       "      <td>562.166</td>\n",
       "      <td>Chad</td>\n",
       "      <td>117.0</td>\n",
       "      <td>405.55</td>\n",
       "      <td>0</td>\n",
       "      <td>2019-07-13 11:41:29</td>\n",
       "    </tr>\n",
       "    <tr>\n",
       "      <th>923</th>\n",
       "      <td>0</td>\n",
       "      <td>397.12</td>\n",
       "      <td>622.386</td>\n",
       "      <td>Chad</td>\n",
       "      <td>NaN</td>\n",
       "      <td>433.45</td>\n",
       "      <td>1</td>\n",
       "      <td>2019-05-27 06:19:27</td>\n",
       "    </tr>\n",
       "  </tbody>\n",
       "</table>\n",
       "</div>"
      ],
      "text/plain": [
       "     target    var1     var2  var3   var4    var5  var6                 var7\n",
       "9         1  283.04  467.801  Chad   69.0  272.35     1  2019-03-26 19:37:46\n",
       "60        1  398.50  567.351  Chad  150.0  186.60     0  2019-03-30 23:40:52\n",
       "76        0  496.38  562.166  Chad  117.0  405.55     0  2019-07-13 11:41:29\n",
       "923       0  397.12  622.386  Chad    NaN  433.45     1  2019-05-27 06:19:27"
      ]
     },
     "execution_count": 9,
     "metadata": {},
     "output_type": "execute_result"
    }
   ],
   "source": [
    "chad = dataset_pd[dataset_pd['var3']=='Chad']\n",
    "chad"
   ]
  },
  {
   "cell_type": "code",
   "execution_count": 10,
   "metadata": {
    "colab": {
     "base_uri": "https://localhost:8080/",
     "height": 174
    },
    "id": "hkJpQ67nUhQi",
    "outputId": "26bc72f1-394d-4b92-8b0d-4fd63e84c9e2"
   },
   "outputs": [
    {
     "data": {
      "text/html": [
       "<div>\n",
       "<style scoped>\n",
       "    .dataframe tbody tr th:only-of-type {\n",
       "        vertical-align: middle;\n",
       "    }\n",
       "\n",
       "    .dataframe tbody tr th {\n",
       "        vertical-align: top;\n",
       "    }\n",
       "\n",
       "    .dataframe thead th {\n",
       "        text-align: right;\n",
       "    }\n",
       "</style>\n",
       "<table border=\"1\" class=\"dataframe\">\n",
       "  <thead>\n",
       "    <tr style=\"text-align: right;\">\n",
       "      <th></th>\n",
       "      <th>target</th>\n",
       "      <th>var1</th>\n",
       "      <th>var2</th>\n",
       "      <th>var3</th>\n",
       "      <th>var4</th>\n",
       "      <th>var5</th>\n",
       "      <th>var6</th>\n",
       "      <th>var7</th>\n",
       "    </tr>\n",
       "  </thead>\n",
       "  <tbody>\n",
       "    <tr>\n",
       "      <th>485</th>\n",
       "      <td>0</td>\n",
       "      <td>425.76</td>\n",
       "      <td>674.325</td>\n",
       "      <td>Saint Martin</td>\n",
       "      <td>NaN</td>\n",
       "      <td>409.90</td>\n",
       "      <td>1</td>\n",
       "      <td>2019-06-04 09:25:27</td>\n",
       "    </tr>\n",
       "    <tr>\n",
       "      <th>768</th>\n",
       "      <td>1</td>\n",
       "      <td>256.74</td>\n",
       "      <td>624.637</td>\n",
       "      <td>Saint Martin</td>\n",
       "      <td>NaN</td>\n",
       "      <td>244.30</td>\n",
       "      <td>0</td>\n",
       "      <td>2019-01-04 00:44:57</td>\n",
       "    </tr>\n",
       "    <tr>\n",
       "      <th>783</th>\n",
       "      <td>0</td>\n",
       "      <td>444.70</td>\n",
       "      <td>651.866</td>\n",
       "      <td>Saint Martin</td>\n",
       "      <td>NaN</td>\n",
       "      <td>406.25</td>\n",
       "      <td>0</td>\n",
       "      <td>2019-04-16 14:15:55</td>\n",
       "    </tr>\n",
       "    <tr>\n",
       "      <th>922</th>\n",
       "      <td>1</td>\n",
       "      <td>265.10</td>\n",
       "      <td>538.170</td>\n",
       "      <td>Saint Martin</td>\n",
       "      <td>NaN</td>\n",
       "      <td>208.35</td>\n",
       "      <td>1</td>\n",
       "      <td>2019-06-13 18:50:00</td>\n",
       "    </tr>\n",
       "  </tbody>\n",
       "</table>\n",
       "</div>"
      ],
      "text/plain": [
       "     target    var1     var2          var3  var4    var5  var6  \\\n",
       "485       0  425.76  674.325  Saint Martin   NaN  409.90     1   \n",
       "768       1  256.74  624.637  Saint Martin   NaN  244.30     0   \n",
       "783       0  444.70  651.866  Saint Martin   NaN  406.25     0   \n",
       "922       1  265.10  538.170  Saint Martin   NaN  208.35     1   \n",
       "\n",
       "                    var7  \n",
       "485  2019-06-04 09:25:27  \n",
       "768  2019-01-04 00:44:57  \n",
       "783  2019-04-16 14:15:55  \n",
       "922  2019-06-13 18:50:00  "
      ]
     },
     "execution_count": 10,
     "metadata": {},
     "output_type": "execute_result"
    }
   ],
   "source": [
    "sm = dataset_pd[dataset_pd['var3']=='Saint Martin']\n",
    "sm"
   ]
  },
  {
   "cell_type": "markdown",
   "metadata": {
    "id": "ASu_g9xHY8XT"
   },
   "source": [
    "In our case target values that correspond to 'Japan', 'Chad, 'Saint Martin' are the same. This means that TargetEncoder will produce the same values for these countries which is not good as we want a unique value for every country.\n",
    "\n",
    "Let us use simple hashing for 'var3' column encoding. We will take last eight digits of the hashed values. This will be enough to provide uniqueness."
   ]
  },
  {
   "cell_type": "code",
   "execution_count": 11,
   "metadata": {
    "colab": {
     "base_uri": "https://localhost:8080/"
    },
    "id": "FmperTBf7xw8",
    "outputId": "25d76adf-5405-4104-f890-d44d29e48abc"
   },
   "outputs": [
    {
     "name": "stdout",
     "output_type": "stream",
     "text": [
      "target          2\n",
      "var1          898\n",
      "var2          925\n",
      "var3          236\n",
      "var4           41\n",
      "var5          835\n",
      "var6            2\n",
      "var7          925\n",
      "var3Hashed    236\n",
      "dtype: int64\n"
     ]
    }
   ],
   "source": [
    "# calculate and store hashed values for each row in the 'var3' column\n",
    "for rowNo in range(len(dataset_pd)):\n",
    "  dataset_pd.loc[rowNo:rowNo, 'var3Hashed'] = abs(hash(dataset_pd.at[rowNo,'var3'])) % (10 ** 8)\n",
    "\n",
    "# count the number of unique values in each column, including the 'var3Hashed' column\n",
    "unique_counts = dataset_pd.nunique()\n",
    "\n",
    "# display the number of unique values for each column\n",
    "print(unique_counts)"
   ]
  },
  {
   "cell_type": "markdown",
   "metadata": {
    "id": "w0UqPB1_LP4V"
   },
   "source": [
    "We can see that the number of unique hashed values ('var3Hashed' column) is equal to the number of unique original values ('var3' column). This means that there are no collisions in the hash calculation, and each unique value in 'var3' is mapped to a unique hashed value in 'var3Hashed'. So this means that the hashing function used ensures that each original value in 'var3' is uniquely represented in the 'var3Hashed' column."
   ]
  },
  {
   "cell_type": "code",
   "execution_count": 12,
   "metadata": {
    "colab": {
     "base_uri": "https://localhost:8080/",
     "height": 300
    },
    "id": "gdQGRBLT4VG9",
    "outputId": "6db887ca-6e6e-4f4b-f38b-4fce6f060d59"
   },
   "outputs": [
    {
     "data": {
      "text/html": [
       "<div>\n",
       "<style scoped>\n",
       "    .dataframe tbody tr th:only-of-type {\n",
       "        vertical-align: middle;\n",
       "    }\n",
       "\n",
       "    .dataframe tbody tr th {\n",
       "        vertical-align: top;\n",
       "    }\n",
       "\n",
       "    .dataframe thead th {\n",
       "        text-align: right;\n",
       "    }\n",
       "</style>\n",
       "<table border=\"1\" class=\"dataframe\">\n",
       "  <thead>\n",
       "    <tr style=\"text-align: right;\">\n",
       "      <th></th>\n",
       "      <th>target</th>\n",
       "      <th>var1</th>\n",
       "      <th>var2</th>\n",
       "      <th>var4</th>\n",
       "      <th>var5</th>\n",
       "      <th>var6</th>\n",
       "      <th>var3Hashed</th>\n",
       "    </tr>\n",
       "  </thead>\n",
       "  <tbody>\n",
       "    <tr>\n",
       "      <th>count</th>\n",
       "      <td>925.000000</td>\n",
       "      <td>925.000000</td>\n",
       "      <td>925.000000</td>\n",
       "      <td>325.000000</td>\n",
       "      <td>925.000000</td>\n",
       "      <td>925.000000</td>\n",
       "      <td>9.250000e+02</td>\n",
       "    </tr>\n",
       "    <tr>\n",
       "      <th>mean</th>\n",
       "      <td>0.496216</td>\n",
       "      <td>360.116562</td>\n",
       "      <td>548.390134</td>\n",
       "      <td>108.452308</td>\n",
       "      <td>325.393946</td>\n",
       "      <td>0.522162</td>\n",
       "      <td>5.399528e+07</td>\n",
       "    </tr>\n",
       "    <tr>\n",
       "      <th>std</th>\n",
       "      <td>0.500256</td>\n",
       "      <td>87.866662</td>\n",
       "      <td>135.221460</td>\n",
       "      <td>26.325744</td>\n",
       "      <td>78.862779</td>\n",
       "      <td>0.499779</td>\n",
       "      <td>3.011774e+07</td>\n",
       "    </tr>\n",
       "    <tr>\n",
       "      <th>min</th>\n",
       "      <td>0.000000</td>\n",
       "      <td>209.560000</td>\n",
       "      <td>139.965000</td>\n",
       "      <td>57.000000</td>\n",
       "      <td>163.000000</td>\n",
       "      <td>0.000000</td>\n",
       "      <td>1.795810e+05</td>\n",
       "    </tr>\n",
       "    <tr>\n",
       "      <th>25%</th>\n",
       "      <td>0.000000</td>\n",
       "      <td>278.640000</td>\n",
       "      <td>467.373000</td>\n",
       "      <td>87.000000</td>\n",
       "      <td>257.900000</td>\n",
       "      <td>0.000000</td>\n",
       "      <td>2.797250e+07</td>\n",
       "    </tr>\n",
       "    <tr>\n",
       "      <th>50%</th>\n",
       "      <td>0.000000</td>\n",
       "      <td>367.640000</td>\n",
       "      <td>569.841000</td>\n",
       "      <td>105.000000</td>\n",
       "      <td>342.350000</td>\n",
       "      <td>1.000000</td>\n",
       "      <td>5.423657e+07</td>\n",
       "    </tr>\n",
       "    <tr>\n",
       "      <th>75%</th>\n",
       "      <td>1.000000</td>\n",
       "      <td>437.600000</td>\n",
       "      <td>652.278000</td>\n",
       "      <td>126.000000</td>\n",
       "      <td>393.000000</td>\n",
       "      <td>1.000000</td>\n",
       "      <td>8.276466e+07</td>\n",
       "    </tr>\n",
       "    <tr>\n",
       "      <th>max</th>\n",
       "      <td>1.000000</td>\n",
       "      <td>539.920000</td>\n",
       "      <td>794.848000</td>\n",
       "      <td>180.000000</td>\n",
       "      <td>457.150000</td>\n",
       "      <td>1.000000</td>\n",
       "      <td>9.977171e+07</td>\n",
       "    </tr>\n",
       "  </tbody>\n",
       "</table>\n",
       "</div>"
      ],
      "text/plain": [
       "           target        var1        var2        var4        var5        var6  \\\n",
       "count  925.000000  925.000000  925.000000  325.000000  925.000000  925.000000   \n",
       "mean     0.496216  360.116562  548.390134  108.452308  325.393946    0.522162   \n",
       "std      0.500256   87.866662  135.221460   26.325744   78.862779    0.499779   \n",
       "min      0.000000  209.560000  139.965000   57.000000  163.000000    0.000000   \n",
       "25%      0.000000  278.640000  467.373000   87.000000  257.900000    0.000000   \n",
       "50%      0.000000  367.640000  569.841000  105.000000  342.350000    1.000000   \n",
       "75%      1.000000  437.600000  652.278000  126.000000  393.000000    1.000000   \n",
       "max      1.000000  539.920000  794.848000  180.000000  457.150000    1.000000   \n",
       "\n",
       "         var3Hashed  \n",
       "count  9.250000e+02  \n",
       "mean   5.399528e+07  \n",
       "std    3.011774e+07  \n",
       "min    1.795810e+05  \n",
       "25%    2.797250e+07  \n",
       "50%    5.423657e+07  \n",
       "75%    8.276466e+07  \n",
       "max    9.977171e+07  "
      ]
     },
     "execution_count": 12,
     "metadata": {},
     "output_type": "execute_result"
    }
   ],
   "source": [
    "dataset_pd.describe() #  display the summary statistics of the dataset "
   ]
  },
  {
   "cell_type": "markdown",
   "metadata": {
    "id": "cRBDRrYfLum7"
   },
   "source": [
    "Now let us convert datetime values in 'var7' column to numbers.\n",
    "First we will fix incorrect dates - 2019-02-29 is an error as 2019 was not a leap year. So we will change the date to 2019-02-28."
   ]
  },
  {
   "cell_type": "code",
   "execution_count": 13,
   "metadata": {
    "colab": {
     "base_uri": "https://localhost:8080/",
     "height": 206
    },
    "id": "QQgNlrVOTsvz",
    "outputId": "fd04bbc5-117a-4771-f9a1-8327b802b048"
   },
   "outputs": [
    {
     "data": {
      "text/html": [
       "<div>\n",
       "<style scoped>\n",
       "    .dataframe tbody tr th:only-of-type {\n",
       "        vertical-align: middle;\n",
       "    }\n",
       "\n",
       "    .dataframe tbody tr th {\n",
       "        vertical-align: top;\n",
       "    }\n",
       "\n",
       "    .dataframe thead th {\n",
       "        text-align: right;\n",
       "    }\n",
       "</style>\n",
       "<table border=\"1\" class=\"dataframe\">\n",
       "  <thead>\n",
       "    <tr style=\"text-align: right;\">\n",
       "      <th></th>\n",
       "      <th>target</th>\n",
       "      <th>var1</th>\n",
       "      <th>var2</th>\n",
       "      <th>var3</th>\n",
       "      <th>var4</th>\n",
       "      <th>var5</th>\n",
       "      <th>var6</th>\n",
       "      <th>var7</th>\n",
       "      <th>var3Hashed</th>\n",
       "    </tr>\n",
       "  </thead>\n",
       "  <tbody>\n",
       "    <tr>\n",
       "      <th>345</th>\n",
       "      <td>0</td>\n",
       "      <td>502.00</td>\n",
       "      <td>577.569</td>\n",
       "      <td>Angola</td>\n",
       "      <td>NaN</td>\n",
       "      <td>360.05</td>\n",
       "      <td>1</td>\n",
       "      <td>2019-02-29 12:31:57</td>\n",
       "      <td>16158341.0</td>\n",
       "    </tr>\n",
       "    <tr>\n",
       "      <th>526</th>\n",
       "      <td>1</td>\n",
       "      <td>343.80</td>\n",
       "      <td>525.632</td>\n",
       "      <td>Guadeloupe</td>\n",
       "      <td>NaN</td>\n",
       "      <td>271.95</td>\n",
       "      <td>0</td>\n",
       "      <td>2019-02-29 18:06:21</td>\n",
       "      <td>61996806.0</td>\n",
       "    </tr>\n",
       "    <tr>\n",
       "      <th>632</th>\n",
       "      <td>0</td>\n",
       "      <td>463.08</td>\n",
       "      <td>516.361</td>\n",
       "      <td>Ireland</td>\n",
       "      <td>NaN</td>\n",
       "      <td>407.30</td>\n",
       "      <td>1</td>\n",
       "      <td>2019-02-29 11:00:06</td>\n",
       "      <td>25096304.0</td>\n",
       "    </tr>\n",
       "    <tr>\n",
       "      <th>779</th>\n",
       "      <td>1</td>\n",
       "      <td>273.70</td>\n",
       "      <td>199.917</td>\n",
       "      <td>Madagascar</td>\n",
       "      <td>NaN</td>\n",
       "      <td>319.40</td>\n",
       "      <td>1</td>\n",
       "      <td>2019-02-29 23:56:06</td>\n",
       "      <td>76446434.0</td>\n",
       "    </tr>\n",
       "    <tr>\n",
       "      <th>813</th>\n",
       "      <td>0</td>\n",
       "      <td>357.02</td>\n",
       "      <td>750.444</td>\n",
       "      <td>Barbados</td>\n",
       "      <td>NaN</td>\n",
       "      <td>381.00</td>\n",
       "      <td>1</td>\n",
       "      <td>2019-02-29 19:26:35</td>\n",
       "      <td>78956434.0</td>\n",
       "    </tr>\n",
       "  </tbody>\n",
       "</table>\n",
       "</div>"
      ],
      "text/plain": [
       "     target    var1     var2        var3  var4    var5  var6  \\\n",
       "345       0  502.00  577.569      Angola   NaN  360.05     1   \n",
       "526       1  343.80  525.632  Guadeloupe   NaN  271.95     0   \n",
       "632       0  463.08  516.361     Ireland   NaN  407.30     1   \n",
       "779       1  273.70  199.917  Madagascar   NaN  319.40     1   \n",
       "813       0  357.02  750.444    Barbados   NaN  381.00     1   \n",
       "\n",
       "                    var7  var3Hashed  \n",
       "345  2019-02-29 12:31:57  16158341.0  \n",
       "526  2019-02-29 18:06:21  61996806.0  \n",
       "632  2019-02-29 11:00:06  25096304.0  \n",
       "779  2019-02-29 23:56:06  76446434.0  \n",
       "813  2019-02-29 19:26:35  78956434.0  "
      ]
     },
     "execution_count": 13,
     "metadata": {},
     "output_type": "execute_result"
    }
   ],
   "source": [
    "# fix incorrect date '2019-02-29' to '2019-02-28', 2019 was not a leap year\n",
    "dataset_pd[dataset_pd['var7'].str[5:10] == '02-29'] "
   ]
  },
  {
   "cell_type": "code",
   "execution_count": 14,
   "metadata": {
    "colab": {
     "base_uri": "https://localhost:8080/",
     "height": 49
    },
    "id": "kbHuvfh8Bmrr",
    "outputId": "0ab9d76f-0997-4c5e-e1bc-797eb787afde"
   },
   "outputs": [
    {
     "name": "stdout",
     "output_type": "stream",
     "text": [
      "Empty DataFrame\n",
      "Columns: [target, var1, var2, var3, var4, var5, var6, var7, var3Hashed]\n",
      "Index: []\n"
     ]
    }
   ],
   "source": [
    "# fix incorrect date '2019-02-29' to '2019-02-28', 2019 was not a leap year\n",
    "dataset_pd.loc[dataset_pd.var7.str[5:10] == '02-29', 'var7'] = dataset_pd.var7.str.replace('02-29', '02-28')\n",
    "\n",
    "# check if there are any rows with '02-29' in the 'var7' column\n",
    "invalid_dates = dataset_pd[dataset_pd['var7'].str[5:10] == '02-29']\n",
    "print(invalid_dates)"
   ]
  },
  {
   "cell_type": "markdown",
   "metadata": {},
   "source": [
    "We shall now perform data normalization to rescale numerical features to a common range, typically between 0 and 1. This is particularly useful when the features have different scales, and we want to bring them to a standardized range for better model performance. In our case, we shall use the MinMaxScaler."
   ]
  },
  {
   "cell_type": "code",
   "execution_count": 15,
   "metadata": {
    "colab": {
     "base_uri": "https://localhost:8080/",
     "height": 423
    },
    "id": "iqmbSo8PF5cD",
    "outputId": "1d80af1c-6050-461f-e0ae-3e0dd64b3958"
   },
   "outputs": [
    {
     "data": {
      "text/html": [
       "<div>\n",
       "<style scoped>\n",
       "    .dataframe tbody tr th:only-of-type {\n",
       "        vertical-align: middle;\n",
       "    }\n",
       "\n",
       "    .dataframe tbody tr th {\n",
       "        vertical-align: top;\n",
       "    }\n",
       "\n",
       "    .dataframe thead th {\n",
       "        text-align: right;\n",
       "    }\n",
       "</style>\n",
       "<table border=\"1\" class=\"dataframe\">\n",
       "  <thead>\n",
       "    <tr style=\"text-align: right;\">\n",
       "      <th></th>\n",
       "      <th>target</th>\n",
       "      <th>var1</th>\n",
       "      <th>var2</th>\n",
       "      <th>var3</th>\n",
       "      <th>var4</th>\n",
       "      <th>var5</th>\n",
       "      <th>var6</th>\n",
       "      <th>var7</th>\n",
       "      <th>var3Hashed</th>\n",
       "    </tr>\n",
       "  </thead>\n",
       "  <tbody>\n",
       "    <tr>\n",
       "      <th>0</th>\n",
       "      <td>0</td>\n",
       "      <td>0.906950</td>\n",
       "      <td>0.424070</td>\n",
       "      <td>Micronesia</td>\n",
       "      <td>0.658537</td>\n",
       "      <td>0.781914</td>\n",
       "      <td>0</td>\n",
       "      <td>0.983027</td>\n",
       "      <td>0.081415</td>\n",
       "    </tr>\n",
       "    <tr>\n",
       "      <th>1</th>\n",
       "      <td>0</td>\n",
       "      <td>0.715886</td>\n",
       "      <td>0.803528</td>\n",
       "      <td>Dominica</td>\n",
       "      <td>0.195122</td>\n",
       "      <td>0.642699</td>\n",
       "      <td>1</td>\n",
       "      <td>0.459632</td>\n",
       "      <td>0.108762</td>\n",
       "    </tr>\n",
       "    <tr>\n",
       "      <th>2</th>\n",
       "      <td>1</td>\n",
       "      <td>0.078520</td>\n",
       "      <td>0.394165</td>\n",
       "      <td>Isle of Man</td>\n",
       "      <td>0.268293</td>\n",
       "      <td>0.598334</td>\n",
       "      <td>0</td>\n",
       "      <td>0.298817</td>\n",
       "      <td>0.591861</td>\n",
       "    </tr>\n",
       "    <tr>\n",
       "      <th>3</th>\n",
       "      <td>0</td>\n",
       "      <td>0.291985</td>\n",
       "      <td>0.577505</td>\n",
       "      <td>Turkmenistan</td>\n",
       "      <td>0.365854</td>\n",
       "      <td>0.939147</td>\n",
       "      <td>1</td>\n",
       "      <td>0.378358</td>\n",
       "      <td>0.464784</td>\n",
       "    </tr>\n",
       "    <tr>\n",
       "      <th>4</th>\n",
       "      <td>0</td>\n",
       "      <td>0.737135</td>\n",
       "      <td>0.702707</td>\n",
       "      <td>Cameroon</td>\n",
       "      <td>0.390244</td>\n",
       "      <td>0.883733</td>\n",
       "      <td>0</td>\n",
       "      <td>0.374547</td>\n",
       "      <td>0.889349</td>\n",
       "    </tr>\n",
       "  </tbody>\n",
       "</table>\n",
       "</div>"
      ],
      "text/plain": [
       "   target      var1      var2          var3      var4      var5  var6  \\\n",
       "0       0  0.906950  0.424070    Micronesia  0.658537  0.781914     0   \n",
       "1       0  0.715886  0.803528      Dominica  0.195122  0.642699     1   \n",
       "2       1  0.078520  0.394165   Isle of Man  0.268293  0.598334     0   \n",
       "3       0  0.291985  0.577505  Turkmenistan  0.365854  0.939147     1   \n",
       "4       0  0.737135  0.702707      Cameroon  0.390244  0.883733     0   \n",
       "\n",
       "       var7  var3Hashed  \n",
       "0  0.983027    0.081415  \n",
       "1  0.459632    0.108762  \n",
       "2  0.298817    0.591861  \n",
       "3  0.378358    0.464784  \n",
       "4  0.374547    0.889349  "
      ]
     },
     "execution_count": 15,
     "metadata": {},
     "output_type": "execute_result"
    }
   ],
   "source": [
    "# convert each datetime value to a Unix timestamp, which is a numeric representation of time\n",
    "dataset_pd['var7'] = pd.to_datetime(dataset_pd['var7'])\n",
    "dataset_pd['var7'] = dataset_pd.var7.astype('int64')\n",
    "\n",
    "# initialize Min-Max scaler\n",
    "scaler = MinMaxScaler()\n",
    "\n",
    "# select the columns to be normalized and apply Min-Max scaling to the selected columns\n",
    "columns_to_normalize = ['var1', 'var2', 'var3Hashed', 'var4', 'var5', 'var7']\n",
    "min_max_scaled_data = scaler.fit_transform(dataset_pd[columns_to_normalize])\n",
    "\n",
    "# update the original DataFrame with normalized values and print the dataframe\n",
    "dataset_pd[columns_to_normalize] = min_max_scaled_data\n",
    "dataset_pd.head()"
   ]
  },
  {
   "cell_type": "code",
   "execution_count": 16,
   "metadata": {
    "colab": {
     "base_uri": "https://localhost:8080/",
     "height": 300
    },
    "id": "ZiY6isFo70SV",
    "outputId": "d47852d6-41a8-4cae-ead9-6b6b9b22f746"
   },
   "outputs": [
    {
     "data": {
      "text/html": [
       "<div>\n",
       "<style scoped>\n",
       "    .dataframe tbody tr th:only-of-type {\n",
       "        vertical-align: middle;\n",
       "    }\n",
       "\n",
       "    .dataframe tbody tr th {\n",
       "        vertical-align: top;\n",
       "    }\n",
       "\n",
       "    .dataframe thead th {\n",
       "        text-align: right;\n",
       "    }\n",
       "</style>\n",
       "<table border=\"1\" class=\"dataframe\">\n",
       "  <thead>\n",
       "    <tr style=\"text-align: right;\">\n",
       "      <th></th>\n",
       "      <th>target</th>\n",
       "      <th>var1</th>\n",
       "      <th>var2</th>\n",
       "      <th>var4</th>\n",
       "      <th>var5</th>\n",
       "      <th>var6</th>\n",
       "      <th>var7</th>\n",
       "      <th>var3Hashed</th>\n",
       "    </tr>\n",
       "  </thead>\n",
       "  <tbody>\n",
       "    <tr>\n",
       "      <th>count</th>\n",
       "      <td>925.000000</td>\n",
       "      <td>925.000000</td>\n",
       "      <td>925.000000</td>\n",
       "      <td>325.000000</td>\n",
       "      <td>925.000000</td>\n",
       "      <td>925.000000</td>\n",
       "      <td>925.000000</td>\n",
       "      <td>925.000000</td>\n",
       "    </tr>\n",
       "    <tr>\n",
       "      <th>mean</th>\n",
       "      <td>0.496216</td>\n",
       "      <td>0.455735</td>\n",
       "      <td>0.623661</td>\n",
       "      <td>0.418311</td>\n",
       "      <td>0.552079</td>\n",
       "      <td>0.522162</td>\n",
       "      <td>0.492139</td>\n",
       "      <td>0.540361</td>\n",
       "    </tr>\n",
       "    <tr>\n",
       "      <th>std</th>\n",
       "      <td>0.500256</td>\n",
       "      <td>0.265972</td>\n",
       "      <td>0.206482</td>\n",
       "      <td>0.214030</td>\n",
       "      <td>0.268104</td>\n",
       "      <td>0.499779</td>\n",
       "      <td>0.287460</td>\n",
       "      <td>0.302411</td>\n",
       "    </tr>\n",
       "    <tr>\n",
       "      <th>min</th>\n",
       "      <td>0.000000</td>\n",
       "      <td>0.000000</td>\n",
       "      <td>0.000000</td>\n",
       "      <td>0.000000</td>\n",
       "      <td>0.000000</td>\n",
       "      <td>0.000000</td>\n",
       "      <td>0.000000</td>\n",
       "      <td>0.000000</td>\n",
       "    </tr>\n",
       "    <tr>\n",
       "      <th>25%</th>\n",
       "      <td>0.000000</td>\n",
       "      <td>0.209105</td>\n",
       "      <td>0.499949</td>\n",
       "      <td>0.243902</td>\n",
       "      <td>0.322625</td>\n",
       "      <td>0.000000</td>\n",
       "      <td>0.239056</td>\n",
       "      <td>0.279067</td>\n",
       "    </tr>\n",
       "    <tr>\n",
       "      <th>50%</th>\n",
       "      <td>0.000000</td>\n",
       "      <td>0.478508</td>\n",
       "      <td>0.656416</td>\n",
       "      <td>0.390244</td>\n",
       "      <td>0.609723</td>\n",
       "      <td>1.000000</td>\n",
       "      <td>0.483147</td>\n",
       "      <td>0.542784</td>\n",
       "    </tr>\n",
       "    <tr>\n",
       "      <th>75%</th>\n",
       "      <td>1.000000</td>\n",
       "      <td>0.690277</td>\n",
       "      <td>0.782297</td>\n",
       "      <td>0.560976</td>\n",
       "      <td>0.781914</td>\n",
       "      <td>1.000000</td>\n",
       "      <td>0.737341</td>\n",
       "      <td>0.829233</td>\n",
       "    </tr>\n",
       "    <tr>\n",
       "      <th>max</th>\n",
       "      <td>1.000000</td>\n",
       "      <td>1.000000</td>\n",
       "      <td>1.000000</td>\n",
       "      <td>1.000000</td>\n",
       "      <td>1.000000</td>\n",
       "      <td>1.000000</td>\n",
       "      <td>1.000000</td>\n",
       "      <td>1.000000</td>\n",
       "    </tr>\n",
       "  </tbody>\n",
       "</table>\n",
       "</div>"
      ],
      "text/plain": [
       "           target        var1        var2        var4        var5        var6  \\\n",
       "count  925.000000  925.000000  925.000000  325.000000  925.000000  925.000000   \n",
       "mean     0.496216    0.455735    0.623661    0.418311    0.552079    0.522162   \n",
       "std      0.500256    0.265972    0.206482    0.214030    0.268104    0.499779   \n",
       "min      0.000000    0.000000    0.000000    0.000000    0.000000    0.000000   \n",
       "25%      0.000000    0.209105    0.499949    0.243902    0.322625    0.000000   \n",
       "50%      0.000000    0.478508    0.656416    0.390244    0.609723    1.000000   \n",
       "75%      1.000000    0.690277    0.782297    0.560976    0.781914    1.000000   \n",
       "max      1.000000    1.000000    1.000000    1.000000    1.000000    1.000000   \n",
       "\n",
       "             var7  var3Hashed  \n",
       "count  925.000000  925.000000  \n",
       "mean     0.492139    0.540361  \n",
       "std      0.287460    0.302411  \n",
       "min      0.000000    0.000000  \n",
       "25%      0.239056    0.279067  \n",
       "50%      0.483147    0.542784  \n",
       "75%      0.737341    0.829233  \n",
       "max      1.000000    1.000000  "
      ]
     },
     "execution_count": 16,
     "metadata": {},
     "output_type": "execute_result"
    }
   ],
   "source": [
    "dataset_pd.describe() # summary of statistics to check any loss of data"
   ]
  },
  {
   "cell_type": "markdown",
   "metadata": {
    "id": "7FzivSoU78AR"
   },
   "source": [
    "We shall now use ML to try predict our missing values. We will split 325 rows with complete data into train and test datasets. Then train and test an ML model on this data and predict empty 600 values for 'var4'"
   ]
  },
  {
   "cell_type": "code",
   "execution_count": 17,
   "metadata": {
    "colab": {
     "base_uri": "https://localhost:8080/"
    },
    "id": "B-h3seO68Dcy",
    "outputId": "214ae57d-9a30-404e-a839-7697e90c266f"
   },
   "outputs": [
    {
     "name": "stdout",
     "output_type": "stream",
     "text": [
      "Complete data:  325\n",
      "Missing data:  600\n"
     ]
    }
   ],
   "source": [
    "# separate complete data from data with missing values\n",
    "var4_complete = dataset_pd[dataset_pd.var4.isna()==False]\n",
    "var4_missing = dataset_pd[dataset_pd.var4.isna()]\n",
    "\n",
    "print(\"Complete data: \",var4_complete.shape[0])\n",
    "print(\"Missing data: \",var4_missing.shape[0])"
   ]
  },
  {
   "cell_type": "code",
   "execution_count": 18,
   "metadata": {
    "colab": {
     "base_uri": "https://localhost:8080/"
    },
    "id": "vcg0Oyby8tQT",
    "outputId": "a29db1b5-3c06-4cfd-d566-0ece00736faa"
   },
   "outputs": [
    {
     "name": "stdout",
     "output_type": "stream",
     "text": [
      "size of X_train dataset: 260\n",
      "size of Y_train dataset: 260\n",
      "size of X_test dataset: 65\n",
      "size of Y_test dataset: 65\n"
     ]
    }
   ],
   "source": [
    "# assign all columns apart from var4 from the DataFrame to variable X\n",
    "X = var4_complete[['var1', 'var2','var3Hashed','var5','var6','var7']]\n",
    "\n",
    "# target variable (y) is assigned to 'var4'\n",
    "y = var4_complete['var4']\n",
    "\n",
    "# splitting the dataset into train (80%) / test sets (20%)\n",
    "X_train, X_test, y_train, y_test = train_test_split(X, y, test_size=0.2, random_state=0)\n",
    "\n",
    "print('size of X_train dataset:',len(X_train))\n",
    "print('size of Y_train dataset:',len(y_train))\n",
    "print('size of X_test dataset:',len(X_test))\n",
    "print('size of Y_test dataset:',len(y_test))"
   ]
  },
  {
   "cell_type": "markdown",
   "metadata": {
    "id": "gn0fo5VCz4aS"
   },
   "source": [
    "Let us see if we can observe some dependency between 'var4' and other features visually."
   ]
  },
  {
   "cell_type": "code",
   "execution_count": 19,
   "metadata": {},
   "outputs": [
    {
     "data": {
      "image/png": "[encoded data removed]",
      "text/plain": [
       "<Figure size 1800x400 with 6 Axes>"
      ]
     },
     "metadata": {},
     "output_type": "display_data"
    }
   ],
   "source": [
    "# create a 2x3 grid of subplots\n",
    "fig, axes = plt.subplots(nrows=1, ncols=6, figsize=(18, 4))\n",
    "\n",
    "# scatter plots for each variable\n",
    "axes[0].scatter(X_train['var1'], y_train, color='g')\n",
    "axes[0].set_xlabel('var1')\n",
    "axes[0].set_ylabel('var4')\n",
    "\n",
    "axes[1].scatter(X_train['var2'], y_train, color='g')\n",
    "axes[1].set_xlabel('var2')\n",
    "axes[1].set_ylabel('var4')\n",
    "\n",
    "axes[2].scatter(X_train['var3Hashed'], y_train, color='g')\n",
    "axes[2].set_xlabel('var3Hashed')\n",
    "axes[2].set_ylabel('var4')\n",
    "\n",
    "axes[3].scatter(X_train['var5'], y_train, color='g')\n",
    "axes[3].set_xlabel('var5')\n",
    "axes[3].set_ylabel('var4')\n",
    "\n",
    "axes[4].scatter(X_train['var6'], y_train, color='g')\n",
    "axes[4].set_xlabel('var6')\n",
    "axes[4].set_ylabel('var4')\n",
    "\n",
    "axes[5].scatter(X_train['var7'], y_train, color='g')\n",
    "axes[5].set_xlabel('var7')\n",
    "axes[5].set_ylabel('var4')\n",
    "\n",
    "# adjust layout for better readability\n",
    "plt.tight_layout()\n",
    "\n",
    "# show the plot\n",
    "plt.show()"
   ]
  },
  {
   "cell_type": "markdown",
   "metadata": {
    "id": "bxZkTnK1OALv"
   },
   "source": [
    "We do not observe a linear dependancy between features and 'var4' values. Thus we will try polynomial regression model to predict 'var4' values. For our case we shall use Random Forest regressor."
   ]
  },
  {
   "cell_type": "code",
   "execution_count": 20,
   "metadata": {},
   "outputs": [
    {
     "name": "stdout",
     "output_type": "stream",
     "text": [
      "       Actual  Predicted\n",
      "256  0.609756   0.446585\n",
      "65   0.243902   0.354146\n",
      "15   0.292683   0.394878\n",
      "66   0.073171   0.103659\n",
      "269  0.170732   0.241707\n",
      "..        ...        ...\n",
      "52   0.268293   0.327073\n",
      "222  0.195122   0.251707\n",
      "218  0.487805   0.512927\n",
      "56   0.195122   0.257805\n",
      "317  0.317073   0.300976\n",
      "\n",
      "[65 rows x 2 columns]\n"
     ]
    }
   ],
   "source": [
    "# create polynomial features\n",
    "poly_features = PolynomialFeatures(degree=2, include_bias=False)\n",
    "X_train_poly = poly_features.fit_transform(X_train)\n",
    "X_test_poly = poly_features.transform(X_test)\n",
    "\n",
    "# create and fit the Random Forest regressor\n",
    "regressor = RandomForestRegressor(n_estimators=100, random_state=0)\n",
    "regressor.fit(X_train_poly, y_train)\n",
    "\n",
    "# predict on the test set\n",
    "y_pred = regressor.predict(X_test_poly)\n",
    "\n",
    "# for comparison purposes, let's store both the actual labels and the predicted labels in a DataFrame\n",
    "res = pd.DataFrame({'Actual': y_test, 'Predicted': y_pred})\n",
    "print(res)"
   ]
  },
  {
   "cell_type": "code",
   "execution_count": 21,
   "metadata": {},
   "outputs": [
    {
     "name": "stdout",
     "output_type": "stream",
     "text": [
      "Mean Absolute Error: 0.10749718574108819\n",
      "Mean Squared Error (MSE): 0.021230459891090476\n",
      "R-squared (R^2): 0.5305239434076232\n",
      "Root Mean Squared Error: 0.14570675993614873\n"
     ]
    }
   ],
   "source": [
    "# Calculate evaluation metrics for the current predictions\n",
    "mse = mean_squared_error(res['Actual'], res['Predicted'])\n",
    "r2 = r2_score(res['Actual'], res['Predicted'])\n",
    "mae = mean_absolute_error(res['Actual'], res['Predicted'])\n",
    "rmse = np.sqrt(mse)\n",
    "\n",
    "print('Mean Absolute Error:', mae)\n",
    "print(\"Mean Squared Error (MSE):\", mse)\n",
    "print(\"R-squared (R^2):\", r2)\n",
    "print('Root Mean Squared Error:', rmse)"
   ]
  },
  {
   "cell_type": "code",
   "execution_count": 22,
   "metadata": {
    "colab": {
     "base_uri": "https://localhost:8080/",
     "height": 452
    },
    "id": "-YWmmfpsviVS",
    "outputId": "4fcdad57-633a-4986-90fb-ed8c2bbd5416"
   },
   "outputs": [
    {
     "data": {
      "image/png": "[encoded data removed]",
      "text/plain": [
       "<Figure size 640x480 with 1 Axes>"
      ]
     },
     "metadata": {},
     "output_type": "display_data"
    }
   ],
   "source": [
    "# create a scatter plot of actual vs. predicted values\n",
    "plt.scatter(y_test, y_pred, color='g', label='Data points')\n",
    "\n",
    "# add the diagonal line (identity line)\n",
    "plt.plot([min(y_test), max(y_test)], [min(y_test), max(y_test)], color='b', label='Diagonal Line')\n",
    "\n",
    "# set labels and title\n",
    "plt.xlabel('Actual Values')\n",
    "plt.ylabel('Predicted Values')\n",
    "plt.title('Scatter Plot: Actual vs. Predicted Values')\n",
    "\n",
    "# show the legend\n",
    "plt.legend()\n",
    "\n",
    "# show the plot\n",
    "plt.show()"
   ]
  },
  {
   "cell_type": "markdown",
   "metadata": {
    "id": "_9xa29EA0l4p"
   },
   "source": [
    "For the points in the scatter plot are clustered near the diagonal line, it indicates that the model's predictions are close to the actual values. In other words, the model is making accurate predictions, and there is a strong positive correlation between the predicted and actual values.\n",
    "\n",
    "For the points that fall directly on the diagonal line (the blue line in the scatter plot) represent perfect predictions, where the model's predicted values exactly match the actual values. "
   ]
  },
  {
   "cell_type": "code",
   "execution_count": 23,
   "metadata": {
    "colab": {
     "base_uri": "https://localhost:8080/"
    },
    "id": "iCTQqBCorKBw",
    "outputId": "131da589-faab-4e60-8cac-8bfb361b2318"
   },
   "outputs": [
    {
     "name": "stderr",
     "output_type": "stream",
     "text": [
      "/var/folders/5d/rnkft_hs7951vfy1yy2lmd000000gp/T/ipykernel_35008/3227094771.py:7: SettingWithCopyWarning: \n",
      "A value is trying to be set on a copy of a slice from a DataFrame.\n",
      "Try using .loc[row_indexer,col_indexer] = value instead\n",
      "\n",
      "See the caveats in the documentation: https://pandas.pydata.org/pandas-docs/stable/user_guide/indexing.html#returning-a-view-versus-a-copy\n",
      "  var4_missing.loc[:, 'var4'] = y_missing\n"
     ]
    },
    {
     "data": {
      "text/plain": [
       "target        0\n",
       "var1          0\n",
       "var2          0\n",
       "var3          0\n",
       "var4          0\n",
       "var5          0\n",
       "var6          0\n",
       "var7          0\n",
       "var3Hashed    0\n",
       "dtype: int64"
      ]
     },
     "execution_count": 23,
     "metadata": {},
     "output_type": "execute_result"
    }
   ],
   "source": [
    "X_missing = var4_missing[['var1', 'var2','var3Hashed','var5','var6','var7']]\n",
    "\n",
    "X_missing_poly = poly_features.transform(X_missing)\n",
    "y_missing = regressor.predict(X_missing_poly)\n",
    "\n",
    "# replace missing values\n",
    "var4_missing.loc[:, 'var4'] = y_missing\n",
    "\n",
    "# combine the complete and imputed data\n",
    "dataset_pd = pd.concat([var4_complete, var4_missing])\n",
    "dataset_pd.isna().sum()"
   ]
  },
  {
   "cell_type": "markdown",
   "metadata": {
    "id": "RFOvXYiGOnIR"
   },
   "source": [
    "Now the data prepartion step is complete. Our goal is to predict the values of the 'target' column. This is a classification problem. We will use Random Forest Classifier to train our model.\n",
    "\n",
    "Let us split the data first keeping the relation between different classes of target values."
   ]
  },
  {
   "cell_type": "code",
   "execution_count": 24,
   "metadata": {
    "colab": {
     "base_uri": "https://localhost:8080/"
    },
    "id": "c2pHJsqIEt28",
    "outputId": "40c8d01e-c2f5-4538-b68a-68060b587d4c"
   },
   "outputs": [
    {
     "name": "stdout",
     "output_type": "stream",
     "text": [
      "% of positive samples in whole data: 0.4962162162162162\n",
      "% of positive samples in train set: 0.49594594594594593\n",
      "% of positive samples in test set: 0.4972972972972973\n"
     ]
    }
   ],
   "source": [
    "# find and print the proportion of positive samples in data\n",
    "print('% of positive samples in whole data:', sum(dataset_pd['target'] == 1) / len(dataset_pd))\n",
    "\n",
    "X = dataset_pd[['var1','var2','var3Hashed','var4','var5','var6','var7']]\n",
    "y = dataset_pd['target']\n",
    "\n",
    "# splitting the dataset into train (80%) / test sets (20%)\n",
    "X_train, X_test, y_train, y_test = train_test_split(X, y, test_size=0.2, stratify=y, random_state=0)\n",
    "\n",
    "# find and print the proportion of positive samples in train and test sets, makeing sure they are approx same\n",
    "print('% of positive samples in train set:', sum(y_train== 1) / len(X_train))\n",
    "print('% of positive samples in test set:', sum(y_test== 1) / len(X_test))"
   ]
  },
  {
   "cell_type": "code",
   "execution_count": 25,
   "metadata": {},
   "outputs": [
    {
     "data": {
      "text/html": [
       "<div>\n",
       "<style scoped>\n",
       "    .dataframe tbody tr th:only-of-type {\n",
       "        vertical-align: middle;\n",
       "    }\n",
       "\n",
       "    .dataframe tbody tr th {\n",
       "        vertical-align: top;\n",
       "    }\n",
       "\n",
       "    .dataframe thead th {\n",
       "        text-align: right;\n",
       "    }\n",
       "</style>\n",
       "<table border=\"1\" class=\"dataframe\">\n",
       "  <thead>\n",
       "    <tr style=\"text-align: right;\">\n",
       "      <th></th>\n",
       "      <th>var1</th>\n",
       "      <th>var2</th>\n",
       "      <th>var3Hashed</th>\n",
       "      <th>var4</th>\n",
       "      <th>var5</th>\n",
       "      <th>var6</th>\n",
       "      <th>var7</th>\n",
       "    </tr>\n",
       "  </thead>\n",
       "  <tbody>\n",
       "    <tr>\n",
       "      <th>441</th>\n",
       "      <td>0.232171</td>\n",
       "      <td>0.690917</td>\n",
       "      <td>0.833983</td>\n",
       "      <td>0.545366</td>\n",
       "      <td>0.118307</td>\n",
       "      <td>0</td>\n",
       "      <td>0.649055</td>\n",
       "    </tr>\n",
       "    <tr>\n",
       "      <th>143</th>\n",
       "      <td>0.800218</td>\n",
       "      <td>0.596229</td>\n",
       "      <td>0.829072</td>\n",
       "      <td>0.195122</td>\n",
       "      <td>0.736699</td>\n",
       "      <td>0</td>\n",
       "      <td>0.227072</td>\n",
       "    </tr>\n",
       "    <tr>\n",
       "      <th>104</th>\n",
       "      <td>0.147597</td>\n",
       "      <td>0.600723</td>\n",
       "      <td>0.561828</td>\n",
       "      <td>0.731707</td>\n",
       "      <td>0.218936</td>\n",
       "      <td>0</td>\n",
       "      <td>0.676952</td>\n",
       "    </tr>\n",
       "    <tr>\n",
       "      <th>833</th>\n",
       "      <td>0.646446</td>\n",
       "      <td>0.717878</td>\n",
       "      <td>0.373329</td>\n",
       "      <td>0.385122</td>\n",
       "      <td>0.932517</td>\n",
       "      <td>0</td>\n",
       "      <td>0.814127</td>\n",
       "    </tr>\n",
       "    <tr>\n",
       "      <th>183</th>\n",
       "      <td>0.229386</td>\n",
       "      <td>0.665623</td>\n",
       "      <td>0.166014</td>\n",
       "      <td>0.536585</td>\n",
       "      <td>0.107768</td>\n",
       "      <td>0</td>\n",
       "      <td>0.957630</td>\n",
       "    </tr>\n",
       "    <tr>\n",
       "      <th>...</th>\n",
       "      <td>...</td>\n",
       "      <td>...</td>\n",
       "      <td>...</td>\n",
       "      <td>...</td>\n",
       "      <td>...</td>\n",
       "      <td>...</td>\n",
       "      <td>...</td>\n",
       "    </tr>\n",
       "    <tr>\n",
       "      <th>722</th>\n",
       "      <td>0.931348</td>\n",
       "      <td>0.566071</td>\n",
       "      <td>0.104394</td>\n",
       "      <td>0.276341</td>\n",
       "      <td>0.324324</td>\n",
       "      <td>1</td>\n",
       "      <td>0.874966</td>\n",
       "    </tr>\n",
       "    <tr>\n",
       "      <th>613</th>\n",
       "      <td>0.415970</td>\n",
       "      <td>0.829713</td>\n",
       "      <td>0.563775</td>\n",
       "      <td>0.269512</td>\n",
       "      <td>0.702703</td>\n",
       "      <td>1</td>\n",
       "      <td>0.197973</td>\n",
       "    </tr>\n",
       "    <tr>\n",
       "      <th>677</th>\n",
       "      <td>0.349195</td>\n",
       "      <td>0.384754</td>\n",
       "      <td>0.672662</td>\n",
       "      <td>0.618780</td>\n",
       "      <td>0.148734</td>\n",
       "      <td>0</td>\n",
       "      <td>0.298994</td>\n",
       "    </tr>\n",
       "    <tr>\n",
       "      <th>631</th>\n",
       "      <td>0.315958</td>\n",
       "      <td>0.837820</td>\n",
       "      <td>0.698312</td>\n",
       "      <td>0.485610</td>\n",
       "      <td>0.193269</td>\n",
       "      <td>0</td>\n",
       "      <td>0.143202</td>\n",
       "    </tr>\n",
       "    <tr>\n",
       "      <th>845</th>\n",
       "      <td>0.848105</td>\n",
       "      <td>0.541486</td>\n",
       "      <td>0.797354</td>\n",
       "      <td>0.385366</td>\n",
       "      <td>0.810641</td>\n",
       "      <td>0</td>\n",
       "      <td>0.882291</td>\n",
       "    </tr>\n",
       "  </tbody>\n",
       "</table>\n",
       "<p>740 rows × 7 columns</p>\n",
       "</div>"
      ],
      "text/plain": [
       "         var1      var2  var3Hashed      var4      var5  var6      var7\n",
       "441  0.232171  0.690917    0.833983  0.545366  0.118307     0  0.649055\n",
       "143  0.800218  0.596229    0.829072  0.195122  0.736699     0  0.227072\n",
       "104  0.147597  0.600723    0.561828  0.731707  0.218936     0  0.676952\n",
       "833  0.646446  0.717878    0.373329  0.385122  0.932517     0  0.814127\n",
       "183  0.229386  0.665623    0.166014  0.536585  0.107768     0  0.957630\n",
       "..        ...       ...         ...       ...       ...   ...       ...\n",
       "722  0.931348  0.566071    0.104394  0.276341  0.324324     1  0.874966\n",
       "613  0.415970  0.829713    0.563775  0.269512  0.702703     1  0.197973\n",
       "677  0.349195  0.384754    0.672662  0.618780  0.148734     0  0.298994\n",
       "631  0.315958  0.837820    0.698312  0.485610  0.193269     0  0.143202\n",
       "845  0.848105  0.541486    0.797354  0.385366  0.810641     0  0.882291\n",
       "\n",
       "[740 rows x 7 columns]"
      ]
     },
     "execution_count": 25,
     "metadata": {},
     "output_type": "execute_result"
    }
   ],
   "source": [
    "# visualizing the trianed data\n",
    "X_train"
   ]
  },
  {
   "cell_type": "code",
   "execution_count": 26,
   "metadata": {},
   "outputs": [
    {
     "data": {
      "image/png": "[encoded data removed]",
      "text/plain": [
       "<Figure size 640x480 with 1 Axes>"
      ]
     },
     "metadata": {},
     "output_type": "display_data"
    },
    {
     "name": "stdout",
     "output_type": "stream",
     "text": [
      "Best Threshold = 0.57\n"
     ]
    },
    {
     "data": {
      "image/png": "[encoded data removed]",
      "text/plain": [
       "<Figure size 640x480 with 1 Axes>"
      ]
     },
     "metadata": {},
     "output_type": "display_data"
    },
    {
     "name": "stdout",
     "output_type": "stream",
     "text": [
      "Best Threshold = 0.51\n",
      "Testing accuracy = 0.972972972972973\n",
      "Testing precision = 1.0\n",
      "Testing recall = 0.9456521739130435\n"
     ]
    }
   ],
   "source": [
    "def predictWithThreshold(model, X, y, threshold=np.NaN):\n",
    "    # get predicted probabilities\n",
    "    y_hat = model.predict_proba(X)[:, 1]\n",
    "\n",
    "    # calculate ROC curve\n",
    "    fpr, tpr, thresholds = roc_curve(y, y_hat)\n",
    "\n",
    "    # plot the ROC curve and the diagonal line\n",
    "    plt.plot([0, 1], [0, 1], linestyle='--', label='Random Guess')\n",
    "    plt.plot(fpr, tpr, marker='.', label='Random Forest')\n",
    "\n",
    "    # axis labels and legend\n",
    "    plt.xlabel('False Positive Rate')\n",
    "    plt.ylabel('True Positive Rate')\n",
    "    plt.legend()\n",
    "\n",
    "    # show the plot\n",
    "    plt.show()\n",
    "\n",
    "    # calculate the Youden's J statistic to find the best threshold\n",
    "    J = tpr - fpr\n",
    "    ix = argmax(J)\n",
    "    best_thresh = thresholds[ix]\n",
    "    print('Best Threshold =', best_thresh)\n",
    "\n",
    "    if not np.isnan(threshold):\n",
    "        best_thresh = threshold\n",
    "\n",
    "    # create binary predictions using the best threshold\n",
    "    pred_df = pd.DataFrame({'Predicted': y_hat}).applymap(lambda x: 1 if x > best_thresh else 0)\n",
    "\n",
    "    return pred_df, best_thresh\n",
    "\n",
    "\n",
    "# create and train the Random Forest classifier\n",
    "rf_classifier = RandomForestClassifier(random_state=0)\n",
    "rf_classifier.fit(X_train, y_train)\n",
    "\n",
    "# call the predictWithThreshold function\n",
    "y_train_pred, best_threshold = predictWithThreshold(rf_classifier, X_train, y_train)\n",
    "\n",
    "# use the best threshold for binary classification on test data\n",
    "y_test_pred, _ = predictWithThreshold(rf_classifier, X_test, y_test, threshold=best_threshold)\n",
    "\n",
    "# calculate and print evaluation metrics\n",
    "print('Testing accuracy =', accuracy_score(y_test, y_test_pred.Predicted))\n",
    "print('Testing precision =', precision_score(y_test, y_test_pred.Predicted))\n",
    "print('Testing recall =', recall_score(y_test, y_test_pred.Predicted))"
   ]
  },
  {
   "cell_type": "markdown",
   "metadata": {},
   "source": [
    "From the output of the Best Threshold value, a probability greater than or equal to 0.51 is considered as the positive class (1), and a probability less than 0.51 is considered as the negative class (0). This threshold was selected based on maximizing the Youden's J statistic, which balances the true positive rate (recall) and the true negative rate (1 - false positive rate) to find an optimal trade-off.\n",
    "For the Testing accuracy in our case, the Random Forest classifier has achieved an accuracy of approximately 97.30% on the test data. This indicates that it correctly predicted the class labels for about 97.30% of the samples in the test set.\n",
    "For the Testing precision in our case, the precision is approximately 100.00%, indicating that when the model predicted a sample as positive (1), it was correct for 100.00% of the time.\n",
    "For the Testing recall in our case, the recall is approximately 94.57%, indicating that the model correctly identified about 94.57% of the actual positive samples in the test set."
   ]
  },
  {
   "cell_type": "code",
   "execution_count": 27,
   "metadata": {
    "colab": {
     "base_uri": "https://localhost:8080/",
     "height": 1000
    },
    "id": "issCNc9iHuu5",
    "outputId": "4be4f146-14a0-4135-e575-07de2b5a5ba9"
   },
   "outputs": [
    {
     "name": "stdout",
     "output_type": "stream",
     "text": [
      "Values difference: -5\n"
     ]
    }
   ],
   "source": [
    "# calculate the difference between the predicted values and the true values in the test set \n",
    "t = y_test_pred.Predicted - y_test.values \n",
    "print('Values difference: {}'.format(t.sum()))"
   ]
  },
  {
   "cell_type": "markdown",
   "metadata": {},
   "source": [
    "The difference between the predicted values and the true values in the test set is -5.\n",
    "This means that there are more false negatives than false positives in the test set. "
   ]
  },
  {
   "cell_type": "code",
   "execution_count": 28,
   "metadata": {
    "colab": {
     "base_uri": "https://localhost:8080/",
     "height": 1000
    },
    "id": "issCNc9iHuu5",
    "outputId": "4be4f146-14a0-4135-e575-07de2b5a5ba9"
   },
   "outputs": [
    {
     "data": {
      "image/png": "[encoded data removed]",
      "text/plain": [
       "<Figure size 640x480 with 1 Axes>"
      ]
     },
     "metadata": {},
     "output_type": "display_data"
    },
    {
     "name": "stdout",
     "output_type": "stream",
     "text": [
      "Best Threshold = 0.51\n",
      "Testing accuracy = 0.972972972972973\n",
      "Testing precision = 0.9887640449438202\n",
      "Testing recall = 0.9565217391304348\n"
     ]
    }
   ],
   "source": [
    "# evaluating the performance of a Random Forest classifier on the test data\n",
    "y_test_pred, threshold = predictWithThreshold(rf_classifier, X_test, y_test)\n",
    "\n",
    "print('Testing accuracy = {}'.format(accuracy_score(y_test, y_test_pred.Predicted)))\n",
    "print('Testing precision = {}'.format(precision_score(y_test, y_test_pred.Predicted)))\n",
    "print('Testing recall = {}'.format(recall_score(y_test, y_test_pred.Predicted)))"
   ]
  },
  {
   "cell_type": "markdown",
   "metadata": {},
   "source": [
    "Testing accuracy value (0.972972972972973) indicates that the model achieved approximately 97.3% accuracy on the test data. \n",
    "Testing precision value (0.9887640449438202) indicates that the model achieved a very high percentage (about 99%) of true positive predictions out of all the positive predictions.\n",
    "A Testing recall of 0.957 indicates that the model captured approximately 95.7% of the true positive samples."
   ]
  },
  {
   "cell_type": "code",
   "execution_count": 29,
   "metadata": {
    "colab": {
     "base_uri": "https://localhost:8080/",
     "height": 1000
    },
    "id": "issCNc9iHuu5",
    "outputId": "4be4f146-14a0-4135-e575-07de2b5a5ba9"
   },
   "outputs": [
    {
     "name": "stdout",
     "output_type": "stream",
     "text": [
      "Values difference: -3\n"
     ]
    }
   ],
   "source": [
    "# calculate the difference between the predicted values and the true values in the test set \n",
    "t = y_test_pred.Predicted - y_test.values\n",
    "print('Values difference: {}'.format(t.sum()))"
   ]
  },
  {
   "cell_type": "markdown",
   "metadata": {},
   "source": [
    "The difference between the predicted test values and the true test values in the test set is -3. This means that there are more false negatives than false positives in the test set. This shows that the number of correct predictions (True Positives + True Negatives) is 3 more than the number of incorrect predictions (False Positives + False Negatives). This shwos that the model is performing well in terms of minimizing false negatives, which is very important in areas of application where avoiding false negatives is crucial such as fraud detection or medical diagnosis purposes. "
   ]
  },
  {
   "cell_type": "code",
   "execution_count": 30,
   "metadata": {
    "colab": {
     "base_uri": "https://localhost:8080/",
     "height": 1000
    },
    "id": "4PUQmQNpIq4t",
    "outputId": "892b6344-a0a8-4277-96a2-89fb2cf2f70f"
   },
   "outputs": [
    {
     "data": {
      "image/png": "[encoded data removed]",
      "text/plain": [
       "<Figure size 640x480 with 1 Axes>"
      ]
     },
     "metadata": {},
     "output_type": "display_data"
    },
    {
     "name": "stdout",
     "output_type": "stream",
     "text": [
      "Best Threshold = 0.51\n",
      "Testing accuracy = 0.9945945945945946\n",
      "Testing precision = 0.9978070175438597\n",
      "Testing recall = 0.9912854030501089\n"
     ]
    }
   ],
   "source": [
    "# use the trained model to predict for the complete dataset\n",
    "y_complete_pred, threshold2 = predictWithThreshold(rf_classifier, X, y, threshold)\n",
    "\n",
    "print('Testing accuracy = {}'.format(accuracy_score(y, y_complete_pred.Predicted)))\n",
    "print('Testing precision = {}'.format(precision_score(y, y_complete_pred.Predicted)))\n",
    "print('Testing recall = {}'.format(recall_score(y, y_complete_pred.Predicted)))"
   ]
  },
  {
   "cell_type": "markdown",
   "metadata": {},
   "source": [
    "Testing Accuracy (0.9945945945945946): The model achieves an accuracy of approximately 99.46%. This means that around 99.46% of the predictions made by the model on the complete dataset are correct.\n",
    "Testing Precision (0.9978070175438597): The precision score is approximately 99.78%. This indicates that when the model predicts an instance as positive (1), it is correct around 99.78% of the time. This means the model has a very low false positive rate.\n",
    "Testing Recall (0.9912854030501089): The recall score is approximately 99.13%. This means that the model correctly identifies around 99.13% of the actual positive instances in the dataset. This means the model has a low false negative rate."
   ]
  },
  {
   "cell_type": "code",
   "execution_count": 31,
   "metadata": {
    "colab": {
     "base_uri": "https://localhost:8080/",
     "height": 1000
    },
    "id": "4PUQmQNpIq4t",
    "outputId": "892b6344-a0a8-4277-96a2-89fb2cf2f70f"
   },
   "outputs": [
    {
     "name": "stdout",
     "output_type": "stream",
     "text": [
      "Values difference: -3\n"
     ]
    },
    {
     "data": {
      "text/html": [
       "<div>\n",
       "<style scoped>\n",
       "    .dataframe tbody tr th:only-of-type {\n",
       "        vertical-align: middle;\n",
       "    }\n",
       "\n",
       "    .dataframe tbody tr th {\n",
       "        vertical-align: top;\n",
       "    }\n",
       "\n",
       "    .dataframe thead th {\n",
       "        text-align: right;\n",
       "    }\n",
       "</style>\n",
       "<table border=\"1\" class=\"dataframe\">\n",
       "  <thead>\n",
       "    <tr style=\"text-align: right;\">\n",
       "      <th></th>\n",
       "      <th>target</th>\n",
       "      <th>var1</th>\n",
       "      <th>var2</th>\n",
       "      <th>var3</th>\n",
       "      <th>var4</th>\n",
       "      <th>var5</th>\n",
       "      <th>var6</th>\n",
       "      <th>var7</th>\n",
       "      <th>var3Hashed</th>\n",
       "      <th>target_prediction</th>\n",
       "    </tr>\n",
       "  </thead>\n",
       "  <tbody>\n",
       "    <tr>\n",
       "      <th>0</th>\n",
       "      <td>0</td>\n",
       "      <td>0.906950</td>\n",
       "      <td>0.424070</td>\n",
       "      <td>Micronesia</td>\n",
       "      <td>0.658537</td>\n",
       "      <td>0.781914</td>\n",
       "      <td>0</td>\n",
       "      <td>0.983027</td>\n",
       "      <td>0.081415</td>\n",
       "      <td>0</td>\n",
       "    </tr>\n",
       "    <tr>\n",
       "      <th>1</th>\n",
       "      <td>0</td>\n",
       "      <td>0.715886</td>\n",
       "      <td>0.803528</td>\n",
       "      <td>Dominica</td>\n",
       "      <td>0.195122</td>\n",
       "      <td>0.642699</td>\n",
       "      <td>1</td>\n",
       "      <td>0.459632</td>\n",
       "      <td>0.108762</td>\n",
       "      <td>0</td>\n",
       "    </tr>\n",
       "    <tr>\n",
       "      <th>2</th>\n",
       "      <td>1</td>\n",
       "      <td>0.078520</td>\n",
       "      <td>0.394165</td>\n",
       "      <td>Isle of Man</td>\n",
       "      <td>0.268293</td>\n",
       "      <td>0.598334</td>\n",
       "      <td>0</td>\n",
       "      <td>0.298817</td>\n",
       "      <td>0.591861</td>\n",
       "      <td>1</td>\n",
       "    </tr>\n",
       "    <tr>\n",
       "      <th>3</th>\n",
       "      <td>0</td>\n",
       "      <td>0.291985</td>\n",
       "      <td>0.577505</td>\n",
       "      <td>Turkmenistan</td>\n",
       "      <td>0.365854</td>\n",
       "      <td>0.939147</td>\n",
       "      <td>1</td>\n",
       "      <td>0.378358</td>\n",
       "      <td>0.464784</td>\n",
       "      <td>0</td>\n",
       "    </tr>\n",
       "    <tr>\n",
       "      <th>4</th>\n",
       "      <td>0</td>\n",
       "      <td>0.737135</td>\n",
       "      <td>0.702707</td>\n",
       "      <td>Cameroon</td>\n",
       "      <td>0.390244</td>\n",
       "      <td>0.883733</td>\n",
       "      <td>0</td>\n",
       "      <td>0.374547</td>\n",
       "      <td>0.889349</td>\n",
       "      <td>0</td>\n",
       "    </tr>\n",
       "    <tr>\n",
       "      <th>...</th>\n",
       "      <td>...</td>\n",
       "      <td>...</td>\n",
       "      <td>...</td>\n",
       "      <td>...</td>\n",
       "      <td>...</td>\n",
       "      <td>...</td>\n",
       "      <td>...</td>\n",
       "      <td>...</td>\n",
       "      <td>...</td>\n",
       "      <td>...</td>\n",
       "    </tr>\n",
       "    <tr>\n",
       "      <th>920</th>\n",
       "      <td>0</td>\n",
       "      <td>0.644085</td>\n",
       "      <td>0.621934</td>\n",
       "      <td>Belarus</td>\n",
       "      <td>0.094390</td>\n",
       "      <td>0.637260</td>\n",
       "      <td>1</td>\n",
       "      <td>0.104572</td>\n",
       "      <td>0.955990</td>\n",
       "      <td>0</td>\n",
       "    </tr>\n",
       "    <tr>\n",
       "      <th>921</th>\n",
       "      <td>1</td>\n",
       "      <td>0.402773</td>\n",
       "      <td>0.509945</td>\n",
       "      <td>Japan</td>\n",
       "      <td>0.717073</td>\n",
       "      <td>0.128676</td>\n",
       "      <td>0</td>\n",
       "      <td>0.153982</td>\n",
       "      <td>0.679418</td>\n",
       "      <td>1</td>\n",
       "    </tr>\n",
       "    <tr>\n",
       "      <th>922</th>\n",
       "      <td>1</td>\n",
       "      <td>0.168120</td>\n",
       "      <td>0.608055</td>\n",
       "      <td>Saint Martin</td>\n",
       "      <td>0.534146</td>\n",
       "      <td>0.154173</td>\n",
       "      <td>1</td>\n",
       "      <td>0.802583</td>\n",
       "      <td>0.983677</td>\n",
       "      <td>1</td>\n",
       "    </tr>\n",
       "    <tr>\n",
       "      <th>923</th>\n",
       "      <td>0</td>\n",
       "      <td>0.567744</td>\n",
       "      <td>0.736652</td>\n",
       "      <td>Chad</td>\n",
       "      <td>0.345122</td>\n",
       "      <td>0.919429</td>\n",
       "      <td>1</td>\n",
       "      <td>0.716604</td>\n",
       "      <td>0.450871</td>\n",
       "      <td>0</td>\n",
       "    </tr>\n",
       "    <tr>\n",
       "      <th>924</th>\n",
       "      <td>1</td>\n",
       "      <td>0.098499</td>\n",
       "      <td>0.428266</td>\n",
       "      <td>Albania</td>\n",
       "      <td>0.622195</td>\n",
       "      <td>0.701003</td>\n",
       "      <td>1</td>\n",
       "      <td>0.826823</td>\n",
       "      <td>0.992925</td>\n",
       "      <td>1</td>\n",
       "    </tr>\n",
       "  </tbody>\n",
       "</table>\n",
       "<p>925 rows × 10 columns</p>\n",
       "</div>"
      ],
      "text/plain": [
       "     target      var1      var2          var3      var4      var5  var6  \\\n",
       "0         0  0.906950  0.424070    Micronesia  0.658537  0.781914     0   \n",
       "1         0  0.715886  0.803528      Dominica  0.195122  0.642699     1   \n",
       "2         1  0.078520  0.394165   Isle of Man  0.268293  0.598334     0   \n",
       "3         0  0.291985  0.577505  Turkmenistan  0.365854  0.939147     1   \n",
       "4         0  0.737135  0.702707      Cameroon  0.390244  0.883733     0   \n",
       "..      ...       ...       ...           ...       ...       ...   ...   \n",
       "920       0  0.644085  0.621934       Belarus  0.094390  0.637260     1   \n",
       "921       1  0.402773  0.509945         Japan  0.717073  0.128676     0   \n",
       "922       1  0.168120  0.608055  Saint Martin  0.534146  0.154173     1   \n",
       "923       0  0.567744  0.736652          Chad  0.345122  0.919429     1   \n",
       "924       1  0.098499  0.428266       Albania  0.622195  0.701003     1   \n",
       "\n",
       "         var7  var3Hashed  target_prediction  \n",
       "0    0.983027    0.081415                  0  \n",
       "1    0.459632    0.108762                  0  \n",
       "2    0.298817    0.591861                  1  \n",
       "3    0.378358    0.464784                  0  \n",
       "4    0.374547    0.889349                  0  \n",
       "..        ...         ...                ...  \n",
       "920  0.104572    0.955990                  0  \n",
       "921  0.153982    0.679418                  1  \n",
       "922  0.802583    0.983677                  1  \n",
       "923  0.716604    0.450871                  0  \n",
       "924  0.826823    0.992925                  1  \n",
       "\n",
       "[925 rows x 10 columns]"
      ]
     },
     "execution_count": 31,
     "metadata": {},
     "output_type": "execute_result"
    }
   ],
   "source": [
    "t = y_complete_pred.Predicted - y.values\n",
    "print('Values difference: {}'.format(t.sum()))\n",
    "\n",
    "dataset_pd['target_prediction'] = y_complete_pred.Predicted\n",
    "\n",
    "dataset_pd"
   ]
  },
  {
   "cell_type": "markdown",
   "metadata": {},
   "source": [
    "The value -3 means that there are 3 more negative predictions than actual negative instances in the complete dataset. This means the model is slightly biased towards predicting negative instances. False negatives can be problematic in certain applications, where the consequences of missing positive instances are severe."
   ]
  },
  {
   "cell_type": "markdown",
   "metadata": {},
   "source": [
    "So k-fold cross-validation tuning can be a useful approach to fine-tune the model and find an optimal threshold. K-fold cross-validation can help in better estimating the model's performance by reducing the bias and variance of the evaluation metrics."
   ]
  },
  {
   "cell_type": "code",
   "execution_count": 32,
   "metadata": {},
   "outputs": [
    {
     "name": "stdout",
     "output_type": "stream",
     "text": [
      "Fold 1 - Accuracy: 0.9621621621621622\n",
      "Fold 2 - Accuracy: 0.9567567567567568\n",
      "Fold 3 - Accuracy: 0.9513513513513514\n",
      "Fold 4 - Accuracy: 0.9675675675675676\n",
      "Fold 5 - Accuracy: 0.9297297297297298\n",
      "Mean Accuracy: 0.9535135135135135\n",
      "Standard Deviation of the fold: 0.01306275240388601\n"
     ]
    }
   ],
   "source": [
    "# try k-Fold cross validation tuning\n",
    "# rreate a Random Forest classifier\n",
    "rf_classifier = RandomForestClassifier(random_state=0)\n",
    "\n",
    "# perform k-fold cross-validation \n",
    "k_folds = 5 # for our k_folds we shall try 5\n",
    "scores = cross_val_score(rf_classifier, X, y, cv=k_folds, scoring='accuracy')\n",
    "\n",
    "# print the accuracy scores for each fold and the mean accuracy\n",
    "for i, score in enumerate(scores):\n",
    "    print(f'Fold {i+1} - Accuracy: {score}')\n",
    "\n",
    "print(f'Mean Accuracy: {np.mean(scores)}')\n",
    "print(f'Standard Deviation of the fold: {np.std(scores)}')"
   ]
  },
  {
   "cell_type": "markdown",
   "metadata": {},
   "source": [
    "Based on the output of k-fold cross-validation, we can see that the random forest model achieved a mean accuracy across all folds of approximately 0.9535, and the standard deviation of the accuracy of approximately 0.013.This shows that our model is performing well and providing consistent accuracy across different subsets of the data during the k-fold cross-validation process. It indicates that the model generalizes well to unseen data and is not overfitting to the training set."
   ]
  },
  {
   "cell_type": "markdown",
   "metadata": {},
   "source": [
    "We need to evaluate the performance of a classification model on a set of test data for which the true values are known. For this, we shall use the confusion matrix to show a detailed breakdown of the model's prediction. \n",
    "\n",
    "Intepretation of the confusion matrix\n",
    "\n",
    "TN (True Negative) | FP (False Positive)\n",
    "-------------------|-------------------\n",
    "FN (False Negative)| TP (True Positive)\n"
   ]
  },
  {
   "cell_type": "code",
   "execution_count": 33,
   "metadata": {},
   "outputs": [
    {
     "name": "stdout",
     "output_type": "stream",
     "text": [
      "Confusion Matrix:\n",
      "[[85  6]\n",
      " [ 7 87]]\n"
     ]
    }
   ],
   "source": [
    "# split data into training and testing sets\n",
    "test_size = 0.2\n",
    "seed = 0  # initialize the random number generator\n",
    "X_train, X_test, y_train, y_test = train_test_split(X, y, test_size=test_size, random_state=seed)\n",
    "\n",
    "# create and train the Random Forest classifier\n",
    "model = RandomForestClassifier(random_state=0)\n",
    "model.fit(X_train, y_train)\n",
    "\n",
    "# make predictions on the test data\n",
    "predicted = model.predict(X_test)\n",
    "\n",
    "# compute the confusion matrix\n",
    "matrix = confusion_matrix(y_test, predicted)\n",
    "\n",
    "# print the confusion matrix\n",
    "print(\"Confusion Matrix:\")\n",
    "print(matrix)"
   ]
  },
  {
   "cell_type": "markdown",
   "metadata": {},
   "source": [
    "#### Intepretation of the confusion matrix\n",
    "\n",
    "TN (True Negative) | FP (False Positive)\n",
    "-------------------|-------------------\n",
    "FN (False Negative)| TP (True Positive)  from this intepretation TN = 85, FP = 6, FN = 7, TP = 87 based on 20% of the test size data. \n",
    "\n",
    "Accuracy: (TN + TP) / (TN + FP + FN + TP) = 0.9297\n",
    "\n",
    "Precision:  TP / (TP + FP) = 0.9354\n",
    "\n",
    "Recall (Sensitivity or True Positive Rate):  TP / (TP + FN) = 0.9255\n",
    "\n",
    "Specificity (True Negative Rate):  TN / (TN + FP) = 0.9255\n",
    "\n",
    "F1-Score: 2 * (Precision * Recall) / (Precision + Recall) = 0.9264"
   ]
  },
  {
   "cell_type": "markdown",
   "metadata": {},
   "source": [
    "## Summary: \n",
    "The model shows good performance in classifying instances into positive and negative classes. The balanced F1-Score suggests that the model is capable of making accurate predictions while maintaining a good balance between correctly identifying positive instances and avoiding false positives."
   ]
  },
  {
   "cell_type": "markdown",
   "metadata": {},
   "source": [
    "We shall do a performing feature importance analysis for our Random Forest classifier. The goal is to determine the relative importance of each feature in predicting the target variable. By analyzing the feature importances, we can identify which features are the most relevant in making predictions and gain insights into the underlying relationships between the features and the target variable. This analysis can help in feature selection, model optimization, and understanding the key factors influencing the model's predictions."
   ]
  },
  {
   "cell_type": "code",
   "execution_count": 34,
   "metadata": {},
   "outputs": [
    {
     "data": {
      "text/plain": [
       "<AxesSubplot:ylabel='Feature'>"
      ]
     },
     "execution_count": 34,
     "metadata": {},
     "output_type": "execute_result"
    },
    {
     "data": {
      "image/png": "[encoded data removed]",
      "text/plain": [
       "<Figure size 1000x600 with 1 Axes>"
      ]
     },
     "metadata": {},
     "output_type": "display_data"
    }
   ],
   "source": [
    "# split data into training and testing sets\n",
    "test_size = 0.3\n",
    "seed = 0  # initialize the random number generator\n",
    "X_train, X_test, y_train, y_test = train_test_split(X, y, test_size=test_size, random_state=seed)\n",
    "\n",
    "# create and train the Random Forest classifier\n",
    "model = RandomForestClassifier(random_state=0)\n",
    "model.fit(X_train, y_train)\n",
    "\n",
    "# get the feature importances\n",
    "importances = model.feature_importances_\n",
    "\n",
    "# create a DataFrame to store feature importances\n",
    "feature_importance = pd.DataFrame({'Feature': X.columns, 'Importance': importances})\n",
    "\n",
    "# sort the features by importance in descending order\n",
    "feature_importance = feature_importance.sort_values('Importance', ascending=False)\n",
    "\n",
    "# plot the feature importances\n",
    "feature_importance.plot(x='Feature', y='Importance', kind='barh', figsize=(10, 6))"
   ]
  },
  {
   "cell_type": "markdown",
   "metadata": {},
   "source": [
    "From the output we can see var1 and var5 are the most important features. With var1 being the most important feature."
   ]
  }
 ],
 "metadata": {
  "colab": {
   "provenance": []
  },
  "kernelspec": {
   "display_name": "Python 3 (ipykernel)",
   "language": "python",
   "name": "python3"
  },
  "language_info": {
   "codemirror_mode": {
    "name": "ipython",
    "version": 3
   },
   "file_extension": ".py",
   "mimetype": "text/x-python",
   "name": "python",
   "nbconvert_exporter": "python",
   "pygments_lexer": "ipython3",
   "version": "3.12.4"
  }
 },
 "nbformat": 4,
 "nbformat_minor": 4
}
